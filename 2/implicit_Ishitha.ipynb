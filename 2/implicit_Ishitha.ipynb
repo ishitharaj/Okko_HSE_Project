{
  "cells": [
    {
      "cell_type": "markdown",
      "metadata": {
        "id": "ypkngQPWwoM4"
      },
      "source": [
        "# 0. Configuration"
      ]
    },
    {
      "cell_type": "code",
      "execution_count": 1,
      "metadata": {
        "id": "VAi_NXUawoM6"
      },
      "outputs": [],
      "source": [
        "# links to shared data MovieLens\n",
        "# source on kaggle: https://www.kaggle.com/code/quangnhatbui/movie-recommender/data\n",
        "RATINGS_SMALL_URL = 'https://drive.google.com/file/d/1BlZfCLLs5A13tbNSJZ1GPkHLWQOnPlE4/view?usp=share_link'\n",
        "MOVIES_METADATA_URL = 'https://drive.google.com/file/d/19g6-apYbZb5D-wRj4L7aYKhxS-fDM4Fb/view?usp=share_link'"
      ]
    },
    {
      "cell_type": "markdown",
      "metadata": {
        "id": "b0JzaWX1woM7"
      },
      "source": [
        "# 1. Modules and functions"
      ]
    },
    {
      "cell_type": "code",
      "execution_count": 2,
      "metadata": {
        "id": "qWN5aX2IwoM7"
      },
      "outputs": [],
      "source": [
        "# just to make it available to download w/o SSL verification\n",
        "import ssl\n",
        "ssl._create_default_https_context = ssl._create_unverified_context\n",
        "\n",
        "import numpy as np\n",
        "import pandas as pd\n",
        "import scipy.sparse as sp\n",
        "\n",
        "from itertools import islice, cycle, product\n",
        "\n",
        "from tqdm import tqdm_notebook\n",
        "import warnings\n",
        "warnings.filterwarnings('ignore')\n"
      ]
    },
    {
      "cell_type": "code",
      "source": [
        "!pip install implicit"
      ],
      "metadata": {
        "colab": {
          "base_uri": "https://localhost:8080/"
        },
        "id": "2V2tWe83x0XY",
        "outputId": "96715588-b5f3-4a7c-949d-e623044315ec"
      },
      "execution_count": 3,
      "outputs": [
        {
          "output_type": "stream",
          "name": "stdout",
          "text": [
            "Looking in indexes: https://pypi.org/simple, https://us-python.pkg.dev/colab-wheels/public/simple/\n",
            "Requirement already satisfied: implicit in /usr/local/lib/python3.9/dist-packages (0.6.2)\n",
            "Requirement already satisfied: tqdm>=4.27 in /usr/local/lib/python3.9/dist-packages (from implicit) (4.65.0)\n",
            "Requirement already satisfied: numpy in /usr/local/lib/python3.9/dist-packages (from implicit) (1.22.4)\n",
            "Requirement already satisfied: scipy>=0.16 in /usr/local/lib/python3.9/dist-packages (from implicit) (1.10.1)\n"
          ]
        }
      ]
    },
    {
      "cell_type": "markdown",
      "metadata": {
        "id": "UGkwcZ1_woM7"
      },
      "source": [
        "## 1. 1. Helper functions to avoid copy paste"
      ]
    },
    {
      "cell_type": "code",
      "execution_count": 4,
      "metadata": {
        "id": "Ar4iDD6IwoM7"
      },
      "outputs": [],
      "source": [
        "def read_csv_from_gdrive(url):\n",
        "    \"\"\"\n",
        "    gets csv data from a given url (taken from file -> share -> copy link)\n",
        "    :url: example https://drive.google.com/file/d/1BlZfCLLs5A13tbNSJZ1GPkHLWQOnPlE4/view?usp=share_link\n",
        "    \"\"\"\n",
        "    file_id = url.split('/')[-2]\n",
        "    file_path = 'https://drive.google.com/uc?export=download&id=' + file_id\n",
        "    data = pd.read_csv(file_path)\n",
        "\n",
        "    return data"
      ]
    },
    {
      "cell_type": "markdown",
      "metadata": {
        "id": "GP8ZH6vdwoM8"
      },
      "source": [
        "# 2. Main"
      ]
    },
    {
      "cell_type": "markdown",
      "metadata": {
        "id": "jKD6qU_BwoM8"
      },
      "source": [
        "## 2.1. Load Data"
      ]
    },
    {
      "cell_type": "markdown",
      "metadata": {
        "id": "K44Ncyp4woM8"
      },
      "source": [
        "`interactions` dataset shows list of movies that users watched, along with given ratings:"
      ]
    },
    {
      "cell_type": "code",
      "execution_count": 5,
      "metadata": {
        "colab": {
          "base_uri": "https://localhost:8080/",
          "height": 206
        },
        "id": "yQ5gGCQ9woM8",
        "outputId": "a92bb169-e81d-4cba-ddd2-4c21790e3e76"
      },
      "outputs": [
        {
          "output_type": "execute_result",
          "data": {
            "text/plain": [
              "   userId  movieId  rating   timestamp\n",
              "0       1       31     2.5  1260759144\n",
              "1       1     1029     3.0  1260759179\n",
              "2       1     1061     3.0  1260759182\n",
              "3       1     1129     2.0  1260759185\n",
              "4       1     1172     4.0  1260759205"
            ],
            "text/html": [
              "\n",
              "  <div id=\"df-1267d08b-8e7e-45aa-b391-da1459f88ad3\">\n",
              "    <div class=\"colab-df-container\">\n",
              "      <div>\n",
              "<style scoped>\n",
              "    .dataframe tbody tr th:only-of-type {\n",
              "        vertical-align: middle;\n",
              "    }\n",
              "\n",
              "    .dataframe tbody tr th {\n",
              "        vertical-align: top;\n",
              "    }\n",
              "\n",
              "    .dataframe thead th {\n",
              "        text-align: right;\n",
              "    }\n",
              "</style>\n",
              "<table border=\"1\" class=\"dataframe\">\n",
              "  <thead>\n",
              "    <tr style=\"text-align: right;\">\n",
              "      <th></th>\n",
              "      <th>userId</th>\n",
              "      <th>movieId</th>\n",
              "      <th>rating</th>\n",
              "      <th>timestamp</th>\n",
              "    </tr>\n",
              "  </thead>\n",
              "  <tbody>\n",
              "    <tr>\n",
              "      <th>0</th>\n",
              "      <td>1</td>\n",
              "      <td>31</td>\n",
              "      <td>2.5</td>\n",
              "      <td>1260759144</td>\n",
              "    </tr>\n",
              "    <tr>\n",
              "      <th>1</th>\n",
              "      <td>1</td>\n",
              "      <td>1029</td>\n",
              "      <td>3.0</td>\n",
              "      <td>1260759179</td>\n",
              "    </tr>\n",
              "    <tr>\n",
              "      <th>2</th>\n",
              "      <td>1</td>\n",
              "      <td>1061</td>\n",
              "      <td>3.0</td>\n",
              "      <td>1260759182</td>\n",
              "    </tr>\n",
              "    <tr>\n",
              "      <th>3</th>\n",
              "      <td>1</td>\n",
              "      <td>1129</td>\n",
              "      <td>2.0</td>\n",
              "      <td>1260759185</td>\n",
              "    </tr>\n",
              "    <tr>\n",
              "      <th>4</th>\n",
              "      <td>1</td>\n",
              "      <td>1172</td>\n",
              "      <td>4.0</td>\n",
              "      <td>1260759205</td>\n",
              "    </tr>\n",
              "  </tbody>\n",
              "</table>\n",
              "</div>\n",
              "      <button class=\"colab-df-convert\" onclick=\"convertToInteractive('df-1267d08b-8e7e-45aa-b391-da1459f88ad3')\"\n",
              "              title=\"Convert this dataframe to an interactive table.\"\n",
              "              style=\"display:none;\">\n",
              "        \n",
              "  <svg xmlns=\"http://www.w3.org/2000/svg\" height=\"24px\"viewBox=\"0 0 24 24\"\n",
              "       width=\"24px\">\n",
              "    <path d=\"M0 0h24v24H0V0z\" fill=\"none\"/>\n",
              "    <path d=\"M18.56 5.44l.94 2.06.94-2.06 2.06-.94-2.06-.94-.94-2.06-.94 2.06-2.06.94zm-11 1L8.5 8.5l.94-2.06 2.06-.94-2.06-.94L8.5 2.5l-.94 2.06-2.06.94zm10 10l.94 2.06.94-2.06 2.06-.94-2.06-.94-.94-2.06-.94 2.06-2.06.94z\"/><path d=\"M17.41 7.96l-1.37-1.37c-.4-.4-.92-.59-1.43-.59-.52 0-1.04.2-1.43.59L10.3 9.45l-7.72 7.72c-.78.78-.78 2.05 0 2.83L4 21.41c.39.39.9.59 1.41.59.51 0 1.02-.2 1.41-.59l7.78-7.78 2.81-2.81c.8-.78.8-2.07 0-2.86zM5.41 20L4 18.59l7.72-7.72 1.47 1.35L5.41 20z\"/>\n",
              "  </svg>\n",
              "      </button>\n",
              "      \n",
              "  <style>\n",
              "    .colab-df-container {\n",
              "      display:flex;\n",
              "      flex-wrap:wrap;\n",
              "      gap: 12px;\n",
              "    }\n",
              "\n",
              "    .colab-df-convert {\n",
              "      background-color: #E8F0FE;\n",
              "      border: none;\n",
              "      border-radius: 50%;\n",
              "      cursor: pointer;\n",
              "      display: none;\n",
              "      fill: #1967D2;\n",
              "      height: 32px;\n",
              "      padding: 0 0 0 0;\n",
              "      width: 32px;\n",
              "    }\n",
              "\n",
              "    .colab-df-convert:hover {\n",
              "      background-color: #E2EBFA;\n",
              "      box-shadow: 0px 1px 2px rgba(60, 64, 67, 0.3), 0px 1px 3px 1px rgba(60, 64, 67, 0.15);\n",
              "      fill: #174EA6;\n",
              "    }\n",
              "\n",
              "    [theme=dark] .colab-df-convert {\n",
              "      background-color: #3B4455;\n",
              "      fill: #D2E3FC;\n",
              "    }\n",
              "\n",
              "    [theme=dark] .colab-df-convert:hover {\n",
              "      background-color: #434B5C;\n",
              "      box-shadow: 0px 1px 3px 1px rgba(0, 0, 0, 0.15);\n",
              "      filter: drop-shadow(0px 1px 2px rgba(0, 0, 0, 0.3));\n",
              "      fill: #FFFFFF;\n",
              "    }\n",
              "  </style>\n",
              "\n",
              "      <script>\n",
              "        const buttonEl =\n",
              "          document.querySelector('#df-1267d08b-8e7e-45aa-b391-da1459f88ad3 button.colab-df-convert');\n",
              "        buttonEl.style.display =\n",
              "          google.colab.kernel.accessAllowed ? 'block' : 'none';\n",
              "\n",
              "        async function convertToInteractive(key) {\n",
              "          const element = document.querySelector('#df-1267d08b-8e7e-45aa-b391-da1459f88ad3');\n",
              "          const dataTable =\n",
              "            await google.colab.kernel.invokeFunction('convertToInteractive',\n",
              "                                                     [key], {});\n",
              "          if (!dataTable) return;\n",
              "\n",
              "          const docLinkHtml = 'Like what you see? Visit the ' +\n",
              "            '<a target=\"_blank\" href=https://colab.research.google.com/notebooks/data_table.ipynb>data table notebook</a>'\n",
              "            + ' to learn more about interactive tables.';\n",
              "          element.innerHTML = '';\n",
              "          dataTable['output_type'] = 'display_data';\n",
              "          await google.colab.output.renderOutput(dataTable, element);\n",
              "          const docLink = document.createElement('div');\n",
              "          docLink.innerHTML = docLinkHtml;\n",
              "          element.appendChild(docLink);\n",
              "        }\n",
              "      </script>\n",
              "    </div>\n",
              "  </div>\n",
              "  "
            ]
          },
          "metadata": {},
          "execution_count": 5
        }
      ],
      "source": [
        "# interactions data\n",
        "interactions = read_csv_from_gdrive(RATINGS_SMALL_URL)\n",
        "interactions.head()"
      ]
    },
    {
      "cell_type": "markdown",
      "metadata": {
        "id": "e0YmBq-swoM9"
      },
      "source": [
        "`movies_metadata` dataset shows the list of movies existing on OKKO platform:"
      ]
    },
    {
      "cell_type": "code",
      "execution_count": 6,
      "metadata": {
        "colab": {
          "base_uri": "https://localhost:8080/",
          "height": 515
        },
        "id": "jih4RewlwoM9",
        "outputId": "5d31e070-3d8e-4014-a943-03b641fbdf93"
      },
      "outputs": [
        {
          "output_type": "execute_result",
          "data": {
            "text/plain": [
              "   adult                              belongs_to_collection    budget  \\\n",
              "0  False  {'id': 10194, 'name': 'Toy Story Collection', ...  30000000   \n",
              "1  False                                                NaN  65000000   \n",
              "2  False  {'id': 119050, 'name': 'Grumpy Old Men Collect...         0   \n",
              "\n",
              "                                              genres  \\\n",
              "0  [{'id': 16, 'name': 'Animation'}, {'id': 35, '...   \n",
              "1  [{'id': 12, 'name': 'Adventure'}, {'id': 14, '...   \n",
              "2  [{'id': 10749, 'name': 'Romance'}, {'id': 35, ...   \n",
              "\n",
              "                               homepage     id    imdb_id original_language  \\\n",
              "0  http://toystory.disney.com/toy-story    862  tt0114709                en   \n",
              "1                                   NaN   8844  tt0113497                en   \n",
              "2                                   NaN  15602  tt0113228                en   \n",
              "\n",
              "     original_title                                           overview  ...  \\\n",
              "0         Toy Story  Led by Woody, Andy's toys live happily in his ...  ...   \n",
              "1           Jumanji  When siblings Judy and Peter discover an encha...  ...   \n",
              "2  Grumpier Old Men  A family wedding reignites the ancient feud be...  ...   \n",
              "\n",
              "  release_date      revenue runtime  \\\n",
              "0   1995-10-30  373554033.0    81.0   \n",
              "1   1995-12-15  262797249.0   104.0   \n",
              "2   1995-12-22          0.0   101.0   \n",
              "\n",
              "                                    spoken_languages    status  \\\n",
              "0           [{'iso_639_1': 'en', 'name': 'English'}]  Released   \n",
              "1  [{'iso_639_1': 'en', 'name': 'English'}, {'iso...  Released   \n",
              "2           [{'iso_639_1': 'en', 'name': 'English'}]  Released   \n",
              "\n",
              "                                             tagline             title  video  \\\n",
              "0                                                NaN         Toy Story  False   \n",
              "1          Roll the dice and unleash the excitement!           Jumanji  False   \n",
              "2  Still Yelling. Still Fighting. Still Ready for...  Grumpier Old Men  False   \n",
              "\n",
              "  vote_average vote_count  \n",
              "0          7.7     5415.0  \n",
              "1          6.9     2413.0  \n",
              "2          6.5       92.0  \n",
              "\n",
              "[3 rows x 24 columns]"
            ],
            "text/html": [
              "\n",
              "  <div id=\"df-73d3d05a-70d5-405a-8230-83890cd51b2d\">\n",
              "    <div class=\"colab-df-container\">\n",
              "      <div>\n",
              "<style scoped>\n",
              "    .dataframe tbody tr th:only-of-type {\n",
              "        vertical-align: middle;\n",
              "    }\n",
              "\n",
              "    .dataframe tbody tr th {\n",
              "        vertical-align: top;\n",
              "    }\n",
              "\n",
              "    .dataframe thead th {\n",
              "        text-align: right;\n",
              "    }\n",
              "</style>\n",
              "<table border=\"1\" class=\"dataframe\">\n",
              "  <thead>\n",
              "    <tr style=\"text-align: right;\">\n",
              "      <th></th>\n",
              "      <th>adult</th>\n",
              "      <th>belongs_to_collection</th>\n",
              "      <th>budget</th>\n",
              "      <th>genres</th>\n",
              "      <th>homepage</th>\n",
              "      <th>id</th>\n",
              "      <th>imdb_id</th>\n",
              "      <th>original_language</th>\n",
              "      <th>original_title</th>\n",
              "      <th>overview</th>\n",
              "      <th>...</th>\n",
              "      <th>release_date</th>\n",
              "      <th>revenue</th>\n",
              "      <th>runtime</th>\n",
              "      <th>spoken_languages</th>\n",
              "      <th>status</th>\n",
              "      <th>tagline</th>\n",
              "      <th>title</th>\n",
              "      <th>video</th>\n",
              "      <th>vote_average</th>\n",
              "      <th>vote_count</th>\n",
              "    </tr>\n",
              "  </thead>\n",
              "  <tbody>\n",
              "    <tr>\n",
              "      <th>0</th>\n",
              "      <td>False</td>\n",
              "      <td>{'id': 10194, 'name': 'Toy Story Collection', ...</td>\n",
              "      <td>30000000</td>\n",
              "      <td>[{'id': 16, 'name': 'Animation'}, {'id': 35, '...</td>\n",
              "      <td>http://toystory.disney.com/toy-story</td>\n",
              "      <td>862</td>\n",
              "      <td>tt0114709</td>\n",
              "      <td>en</td>\n",
              "      <td>Toy Story</td>\n",
              "      <td>Led by Woody, Andy's toys live happily in his ...</td>\n",
              "      <td>...</td>\n",
              "      <td>1995-10-30</td>\n",
              "      <td>373554033.0</td>\n",
              "      <td>81.0</td>\n",
              "      <td>[{'iso_639_1': 'en', 'name': 'English'}]</td>\n",
              "      <td>Released</td>\n",
              "      <td>NaN</td>\n",
              "      <td>Toy Story</td>\n",
              "      <td>False</td>\n",
              "      <td>7.7</td>\n",
              "      <td>5415.0</td>\n",
              "    </tr>\n",
              "    <tr>\n",
              "      <th>1</th>\n",
              "      <td>False</td>\n",
              "      <td>NaN</td>\n",
              "      <td>65000000</td>\n",
              "      <td>[{'id': 12, 'name': 'Adventure'}, {'id': 14, '...</td>\n",
              "      <td>NaN</td>\n",
              "      <td>8844</td>\n",
              "      <td>tt0113497</td>\n",
              "      <td>en</td>\n",
              "      <td>Jumanji</td>\n",
              "      <td>When siblings Judy and Peter discover an encha...</td>\n",
              "      <td>...</td>\n",
              "      <td>1995-12-15</td>\n",
              "      <td>262797249.0</td>\n",
              "      <td>104.0</td>\n",
              "      <td>[{'iso_639_1': 'en', 'name': 'English'}, {'iso...</td>\n",
              "      <td>Released</td>\n",
              "      <td>Roll the dice and unleash the excitement!</td>\n",
              "      <td>Jumanji</td>\n",
              "      <td>False</td>\n",
              "      <td>6.9</td>\n",
              "      <td>2413.0</td>\n",
              "    </tr>\n",
              "    <tr>\n",
              "      <th>2</th>\n",
              "      <td>False</td>\n",
              "      <td>{'id': 119050, 'name': 'Grumpy Old Men Collect...</td>\n",
              "      <td>0</td>\n",
              "      <td>[{'id': 10749, 'name': 'Romance'}, {'id': 35, ...</td>\n",
              "      <td>NaN</td>\n",
              "      <td>15602</td>\n",
              "      <td>tt0113228</td>\n",
              "      <td>en</td>\n",
              "      <td>Grumpier Old Men</td>\n",
              "      <td>A family wedding reignites the ancient feud be...</td>\n",
              "      <td>...</td>\n",
              "      <td>1995-12-22</td>\n",
              "      <td>0.0</td>\n",
              "      <td>101.0</td>\n",
              "      <td>[{'iso_639_1': 'en', 'name': 'English'}]</td>\n",
              "      <td>Released</td>\n",
              "      <td>Still Yelling. Still Fighting. Still Ready for...</td>\n",
              "      <td>Grumpier Old Men</td>\n",
              "      <td>False</td>\n",
              "      <td>6.5</td>\n",
              "      <td>92.0</td>\n",
              "    </tr>\n",
              "  </tbody>\n",
              "</table>\n",
              "<p>3 rows × 24 columns</p>\n",
              "</div>\n",
              "      <button class=\"colab-df-convert\" onclick=\"convertToInteractive('df-73d3d05a-70d5-405a-8230-83890cd51b2d')\"\n",
              "              title=\"Convert this dataframe to an interactive table.\"\n",
              "              style=\"display:none;\">\n",
              "        \n",
              "  <svg xmlns=\"http://www.w3.org/2000/svg\" height=\"24px\"viewBox=\"0 0 24 24\"\n",
              "       width=\"24px\">\n",
              "    <path d=\"M0 0h24v24H0V0z\" fill=\"none\"/>\n",
              "    <path d=\"M18.56 5.44l.94 2.06.94-2.06 2.06-.94-2.06-.94-.94-2.06-.94 2.06-2.06.94zm-11 1L8.5 8.5l.94-2.06 2.06-.94-2.06-.94L8.5 2.5l-.94 2.06-2.06.94zm10 10l.94 2.06.94-2.06 2.06-.94-2.06-.94-.94-2.06-.94 2.06-2.06.94z\"/><path d=\"M17.41 7.96l-1.37-1.37c-.4-.4-.92-.59-1.43-.59-.52 0-1.04.2-1.43.59L10.3 9.45l-7.72 7.72c-.78.78-.78 2.05 0 2.83L4 21.41c.39.39.9.59 1.41.59.51 0 1.02-.2 1.41-.59l7.78-7.78 2.81-2.81c.8-.78.8-2.07 0-2.86zM5.41 20L4 18.59l7.72-7.72 1.47 1.35L5.41 20z\"/>\n",
              "  </svg>\n",
              "      </button>\n",
              "      \n",
              "  <style>\n",
              "    .colab-df-container {\n",
              "      display:flex;\n",
              "      flex-wrap:wrap;\n",
              "      gap: 12px;\n",
              "    }\n",
              "\n",
              "    .colab-df-convert {\n",
              "      background-color: #E8F0FE;\n",
              "      border: none;\n",
              "      border-radius: 50%;\n",
              "      cursor: pointer;\n",
              "      display: none;\n",
              "      fill: #1967D2;\n",
              "      height: 32px;\n",
              "      padding: 0 0 0 0;\n",
              "      width: 32px;\n",
              "    }\n",
              "\n",
              "    .colab-df-convert:hover {\n",
              "      background-color: #E2EBFA;\n",
              "      box-shadow: 0px 1px 2px rgba(60, 64, 67, 0.3), 0px 1px 3px 1px rgba(60, 64, 67, 0.15);\n",
              "      fill: #174EA6;\n",
              "    }\n",
              "\n",
              "    [theme=dark] .colab-df-convert {\n",
              "      background-color: #3B4455;\n",
              "      fill: #D2E3FC;\n",
              "    }\n",
              "\n",
              "    [theme=dark] .colab-df-convert:hover {\n",
              "      background-color: #434B5C;\n",
              "      box-shadow: 0px 1px 3px 1px rgba(0, 0, 0, 0.15);\n",
              "      filter: drop-shadow(0px 1px 2px rgba(0, 0, 0, 0.3));\n",
              "      fill: #FFFFFF;\n",
              "    }\n",
              "  </style>\n",
              "\n",
              "      <script>\n",
              "        const buttonEl =\n",
              "          document.querySelector('#df-73d3d05a-70d5-405a-8230-83890cd51b2d button.colab-df-convert');\n",
              "        buttonEl.style.display =\n",
              "          google.colab.kernel.accessAllowed ? 'block' : 'none';\n",
              "\n",
              "        async function convertToInteractive(key) {\n",
              "          const element = document.querySelector('#df-73d3d05a-70d5-405a-8230-83890cd51b2d');\n",
              "          const dataTable =\n",
              "            await google.colab.kernel.invokeFunction('convertToInteractive',\n",
              "                                                     [key], {});\n",
              "          if (!dataTable) return;\n",
              "\n",
              "          const docLinkHtml = 'Like what you see? Visit the ' +\n",
              "            '<a target=\"_blank\" href=https://colab.research.google.com/notebooks/data_table.ipynb>data table notebook</a>'\n",
              "            + ' to learn more about interactive tables.';\n",
              "          element.innerHTML = '';\n",
              "          dataTable['output_type'] = 'display_data';\n",
              "          await google.colab.output.renderOutput(dataTable, element);\n",
              "          const docLink = document.createElement('div');\n",
              "          docLink.innerHTML = docLinkHtml;\n",
              "          element.appendChild(docLink);\n",
              "        }\n",
              "      </script>\n",
              "    </div>\n",
              "  </div>\n",
              "  "
            ]
          },
          "metadata": {},
          "execution_count": 6
        }
      ],
      "source": [
        "# information about films etc\n",
        "movies_metadata = read_csv_from_gdrive(MOVIES_METADATA_URL)\n",
        "movies_metadata.head(3)"
      ]
    },
    {
      "cell_type": "code",
      "execution_count": 7,
      "metadata": {
        "id": "1dU8fEgCwoM9"
      },
      "outputs": [],
      "source": [
        "movies_metadata['id'] = movies_metadata['id'].astype(str)\n",
        "interactions['movieId'] = interactions['movieId'].astype(str)"
      ]
    },
    {
      "cell_type": "code",
      "execution_count": 8,
      "metadata": {
        "colab": {
          "base_uri": "https://localhost:8080/"
        },
        "id": "NVeWT39owoM-",
        "outputId": "02271962-90ca-4ed2-fdee-fe8288d1d649"
      },
      "outputs": [
        {
          "output_type": "stream",
          "name": "stdout",
          "text": [
            "(100004, 4) (44989, 4)\n"
          ]
        }
      ],
      "source": [
        "# leave only those films that intersect with each other\n",
        "interactions_filtered = interactions.loc[interactions['movieId'].isin(movies_metadata['id'])]\n",
        "print(interactions.shape, interactions_filtered.shape)"
      ]
    },
    {
      "cell_type": "code",
      "source": [
        "interactions_filtered.ndim"
      ],
      "metadata": {
        "colab": {
          "base_uri": "https://localhost:8080/"
        },
        "id": "G_0SBYc0vfJS",
        "outputId": "df61bd7d-37b6-4368-dae9-1b380ac98ce7"
      },
      "execution_count": 9,
      "outputs": [
        {
          "output_type": "execute_result",
          "data": {
            "text/plain": [
              "2"
            ]
          },
          "metadata": {},
          "execution_count": 9
        }
      ]
    },
    {
      "cell_type": "markdown",
      "metadata": {
        "id": "iFTX3HCawoM-"
      },
      "source": [
        "## 2.2 Data preparation using LightFM Dataset"
      ]
    },
    {
      "cell_type": "markdown",
      "metadata": {
        "id": "s3LZ9TUQwoM-"
      },
      "source": [
        "To use implicit kNN method `fit` we need a sparse matrix in COOrdinate format. To achieve that we will use `scipy.sparse.coo_matrix` from scipy;\n"
      ]
    },
    {
      "cell_type": "code",
      "execution_count": 10,
      "metadata": {
        "id": "VzjFWZLcwoM-"
      },
      "outputs": [],
      "source": [
        "def get_coo_matrix(\n",
        "        df: pd.DataFrame, \n",
        "        user_col: str,\n",
        "        item_col: str, \n",
        "        users_mapping: dict, \n",
        "        movies_mapping: dict,\n",
        "        weight_col: str = None\n",
        "        ):\n",
        "    if weight_col is None:\n",
        "        weights = np.ones(len(df), dtype=np.float32)\n",
        "    else:\n",
        "        weights = df[weight_col].astype(np.float32)\n",
        "    interaction_matrix = sp.coo_matrix((\n",
        "        weights, \n",
        "        (\n",
        "            df[user_col].map(users_mapping.get), \n",
        "            df[item_col].map(movies_mapping.get)\n",
        "        )\n",
        "    ))\n",
        "    return interaction_matrix"
      ]
    },
    {
      "cell_type": "code",
      "execution_count": 11,
      "metadata": {
        "colab": {
          "base_uri": "https://localhost:8080/"
        },
        "id": "23OwkLN1woM-",
        "outputId": "2ce9c950-520b-4242-f923-7288a094937f"
      },
      "outputs": [
        {
          "output_type": "execute_result",
          "data": {
            "text/plain": [
              "671"
            ]
          },
          "metadata": {},
          "execution_count": 11
        }
      ],
      "source": [
        "# define users mapping\n",
        "users_inv_mapping = dict(enumerate(interactions_filtered['userId'].unique()))\n",
        "users_mapping = {v: k for k, v in users_inv_mapping.items()}\n",
        "len(users_mapping)\n"
      ]
    },
    {
      "cell_type": "code",
      "execution_count": 12,
      "metadata": {
        "colab": {
          "base_uri": "https://localhost:8080/"
        },
        "id": "FBuv_wnvwoM_",
        "outputId": "84c9060d-1ae9-4a10-dbd3-f9dcd96ddfd8"
      },
      "outputs": [
        {
          "output_type": "execute_result",
          "data": {
            "text/plain": [
              "2830"
            ]
          },
          "metadata": {},
          "execution_count": 12
        }
      ],
      "source": [
        "# define movies mapping\n",
        "movies_inv_mapping = dict(enumerate(interactions_filtered['movieId'].unique()))\n",
        "movies_mapping = {v: k for k, v in movies_inv_mapping.items()}\n",
        "len(movies_mapping)\n"
      ]
    },
    {
      "cell_type": "code",
      "execution_count": 13,
      "metadata": {
        "id": "DZ8lTZvrwoM_"
      },
      "outputs": [],
      "source": [
        "# defining train set on the whole interactions dataset (as HW you will have to split into test and train for evaluation)\n",
        "train_mat = get_coo_matrix(\n",
        "    interactions_filtered,\n",
        "    user_col = 'userId',\n",
        "    item_col = 'movieId',\n",
        "    users_mapping = users_mapping,\n",
        "    movies_mapping = movies_mapping\n",
        "    ).tocsr()"
      ]
    },
    {
      "cell_type": "code",
      "execution_count": 14,
      "metadata": {
        "colab": {
          "base_uri": "https://localhost:8080/"
        },
        "id": "MFAe_BKcwoM_",
        "outputId": "66e4be79-3d71-4b38-cecc-461a22be2abd"
      },
      "outputs": [
        {
          "output_type": "execute_result",
          "data": {
            "text/plain": [
              "<671x2830 sparse matrix of type '<class 'numpy.float32'>'\n",
              "\twith 44989 stored elements in Compressed Sparse Row format>"
            ]
          },
          "metadata": {},
          "execution_count": 14
        }
      ],
      "source": [
        "train_mat"
      ]
    },
    {
      "cell_type": "markdown",
      "metadata": {
        "id": "Tl4q_BtzwoM_"
      },
      "source": [
        "## 2.3. Model Training & Evaluation"
      ]
    },
    {
      "cell_type": "markdown",
      "metadata": {
        "id": "cUqdt3hJwoM_"
      },
      "source": [
        "In [`implicit`](https://pypi.org/project/implicit/), there are various models and can be groupped into:\n",
        "- Item-to-Item: KNN based on various similarities - CosineRecommender, BM25Recommender, TFIDFRecommender\n",
        "- implicit ALS;\n",
        "- Logistic Matrix Factorization;\n",
        "- Bayesian Personalized Ranking (BPR)\n"
      ]
    },
    {
      "cell_type": "markdown",
      "metadata": {
        "id": "2CVT6z1fwoNA"
      },
      "source": [
        "### 2.3.1. Train Model"
      ]
    },
    {
      "cell_type": "code",
      "execution_count": 15,
      "metadata": {
        "id": "kH8gAvCPwoNA"
      },
      "outputs": [],
      "source": [
        "from implicit.nearest_neighbours import (\n",
        "    CosineRecommender,\n",
        "    BM25Recommender,\n",
        "    TFIDFRecommender\n",
        "    )"
      ]
    },
    {
      "cell_type": "markdown",
      "metadata": {
        "id": "rQox2De1woNA"
      },
      "source": [
        "Note that in item-to-item models we need to provide matrix in the form of item-user by transposing initial COO matrix user-item\n"
      ]
    },
    {
      "cell_type": "code",
      "execution_count": 16,
      "metadata": {
        "colab": {
          "base_uri": "https://localhost:8080/",
          "height": 49,
          "referenced_widgets": [
            "ffd9f3c631f84420931e6f03dc09d6cb",
            "45d20d11eab24cd0b4904f28e7d2318e",
            "aa564337fbc847dbafa44bdc73ee2328",
            "fc992fcd88b249ac910e73dc15b68d53",
            "160593683c9440eb91b6f9511c45245c",
            "09dbb05b69494ca09ffa4242d12a97fb",
            "65f6b169b3bf4d0ba4935ce01818a08f",
            "01bd67c9e38d4cf4be72a53982ae7053",
            "f54d2e73198742299e2004f74a0fc12e",
            "c1d022d67ec74a93a297adb0a19fd7ca",
            "273981d9a9e045259432cf4b73353379"
          ]
        },
        "id": "Tsp3kPBmwoNA",
        "outputId": "3a649b0c-fb35-44c0-8c1c-415adc35d754"
      },
      "outputs": [
        {
          "output_type": "display_data",
          "data": {
            "text/plain": [
              "  0%|          | 0/671 [00:00<?, ?it/s]"
            ],
            "application/vnd.jupyter.widget-view+json": {
              "version_major": 2,
              "version_minor": 0,
              "model_id": "ffd9f3c631f84420931e6f03dc09d6cb"
            }
          },
          "metadata": {}
        }
      ],
      "source": [
        "# fit the model\n",
        "cosine_model = CosineRecommender(K = 20)\n",
        "cosine_model.fit(train_mat.T)\n"
      ]
    },
    {
      "cell_type": "markdown",
      "metadata": {
        "id": "3B1GS9xGwoNA"
      },
      "source": [
        "### 2.3.2. Evaluate the Model"
      ]
    },
    {
      "cell_type": "code",
      "execution_count": 17,
      "metadata": {
        "colab": {
          "base_uri": "https://localhost:8080/"
        },
        "id": "ML74FTG4woNA",
        "outputId": "cd75ed8d-4f4a-48ca-b03b-2cfff4bee565"
      },
      "outputs": [
        {
          "output_type": "stream",
          "name": "stdout",
          "text": [
            "Rekko for user 1, row number in matrix - 0\n"
          ]
        }
      ],
      "source": [
        "# let's make sense-check\n",
        "top_N = 10\n",
        "user_id = interactions_filtered['userId'].iloc[0]\n",
        "row_id = users_mapping[user_id]\n",
        "print(f'Rekko for user {user_id}, row number in matrix - {row_id}')"
      ]
    },
    {
      "cell_type": "code",
      "execution_count": 18,
      "metadata": {
        "id": "btYrDMfswoNB"
      },
      "outputs": [],
      "source": [
        "# create mapper for movieId and title names\n",
        "movie_name_mapper = dict(zip(movies_metadata['id'], movies_metadata['original_title']))"
      ]
    },
    {
      "cell_type": "code",
      "execution_count": 19,
      "metadata": {
        "colab": {
          "base_uri": "https://localhost:8080/",
          "height": 363
        },
        "id": "FiHzmJyIwoNB",
        "outputId": "a95d0cbf-6bd0-4c31-c1f3-4a643a10652a"
      },
      "outputs": [
        {
          "output_type": "execute_result",
          "data": {
            "text/plain": [
              "   col_id  similarity  inv_movie_id movieId                         title\n",
              "0   653.0    0.861587           653   74458        Mere Brother Ki Dulhan\n",
              "1   129.0    0.844531           129    1994       The Most Dangerous Game\n",
              "2   606.0    0.654064           606    8011  Highlander III: The Sorcerer\n",
              "3   294.0    0.625141           294      70           Million Dollar Baby\n",
              "4   337.0    0.593856           337     170                 28 Days Later\n",
              "5   648.0    0.577499           648   68954                     Longitude\n",
              "6   579.0    0.571681           579    5956                        Joshua\n",
              "7   399.0    0.561442           399    1088                   Whale Rider\n",
              "8   278.0    0.561442           278    1584                School of Rock\n",
              "9   150.0    0.557086           150    2100               The Last Castle"
            ],
            "text/html": [
              "\n",
              "  <div id=\"df-af6d1252-9fa3-46e1-be3c-54bf17fe178d\">\n",
              "    <div class=\"colab-df-container\">\n",
              "      <div>\n",
              "<style scoped>\n",
              "    .dataframe tbody tr th:only-of-type {\n",
              "        vertical-align: middle;\n",
              "    }\n",
              "\n",
              "    .dataframe tbody tr th {\n",
              "        vertical-align: top;\n",
              "    }\n",
              "\n",
              "    .dataframe thead th {\n",
              "        text-align: right;\n",
              "    }\n",
              "</style>\n",
              "<table border=\"1\" class=\"dataframe\">\n",
              "  <thead>\n",
              "    <tr style=\"text-align: right;\">\n",
              "      <th></th>\n",
              "      <th>col_id</th>\n",
              "      <th>similarity</th>\n",
              "      <th>inv_movie_id</th>\n",
              "      <th>movieId</th>\n",
              "      <th>title</th>\n",
              "    </tr>\n",
              "  </thead>\n",
              "  <tbody>\n",
              "    <tr>\n",
              "      <th>0</th>\n",
              "      <td>653.0</td>\n",
              "      <td>0.861587</td>\n",
              "      <td>653</td>\n",
              "      <td>74458</td>\n",
              "      <td>Mere Brother Ki Dulhan</td>\n",
              "    </tr>\n",
              "    <tr>\n",
              "      <th>1</th>\n",
              "      <td>129.0</td>\n",
              "      <td>0.844531</td>\n",
              "      <td>129</td>\n",
              "      <td>1994</td>\n",
              "      <td>The Most Dangerous Game</td>\n",
              "    </tr>\n",
              "    <tr>\n",
              "      <th>2</th>\n",
              "      <td>606.0</td>\n",
              "      <td>0.654064</td>\n",
              "      <td>606</td>\n",
              "      <td>8011</td>\n",
              "      <td>Highlander III: The Sorcerer</td>\n",
              "    </tr>\n",
              "    <tr>\n",
              "      <th>3</th>\n",
              "      <td>294.0</td>\n",
              "      <td>0.625141</td>\n",
              "      <td>294</td>\n",
              "      <td>70</td>\n",
              "      <td>Million Dollar Baby</td>\n",
              "    </tr>\n",
              "    <tr>\n",
              "      <th>4</th>\n",
              "      <td>337.0</td>\n",
              "      <td>0.593856</td>\n",
              "      <td>337</td>\n",
              "      <td>170</td>\n",
              "      <td>28 Days Later</td>\n",
              "    </tr>\n",
              "    <tr>\n",
              "      <th>5</th>\n",
              "      <td>648.0</td>\n",
              "      <td>0.577499</td>\n",
              "      <td>648</td>\n",
              "      <td>68954</td>\n",
              "      <td>Longitude</td>\n",
              "    </tr>\n",
              "    <tr>\n",
              "      <th>6</th>\n",
              "      <td>579.0</td>\n",
              "      <td>0.571681</td>\n",
              "      <td>579</td>\n",
              "      <td>5956</td>\n",
              "      <td>Joshua</td>\n",
              "    </tr>\n",
              "    <tr>\n",
              "      <th>7</th>\n",
              "      <td>399.0</td>\n",
              "      <td>0.561442</td>\n",
              "      <td>399</td>\n",
              "      <td>1088</td>\n",
              "      <td>Whale Rider</td>\n",
              "    </tr>\n",
              "    <tr>\n",
              "      <th>8</th>\n",
              "      <td>278.0</td>\n",
              "      <td>0.561442</td>\n",
              "      <td>278</td>\n",
              "      <td>1584</td>\n",
              "      <td>School of Rock</td>\n",
              "    </tr>\n",
              "    <tr>\n",
              "      <th>9</th>\n",
              "      <td>150.0</td>\n",
              "      <td>0.557086</td>\n",
              "      <td>150</td>\n",
              "      <td>2100</td>\n",
              "      <td>The Last Castle</td>\n",
              "    </tr>\n",
              "  </tbody>\n",
              "</table>\n",
              "</div>\n",
              "      <button class=\"colab-df-convert\" onclick=\"convertToInteractive('df-af6d1252-9fa3-46e1-be3c-54bf17fe178d')\"\n",
              "              title=\"Convert this dataframe to an interactive table.\"\n",
              "              style=\"display:none;\">\n",
              "        \n",
              "  <svg xmlns=\"http://www.w3.org/2000/svg\" height=\"24px\"viewBox=\"0 0 24 24\"\n",
              "       width=\"24px\">\n",
              "    <path d=\"M0 0h24v24H0V0z\" fill=\"none\"/>\n",
              "    <path d=\"M18.56 5.44l.94 2.06.94-2.06 2.06-.94-2.06-.94-.94-2.06-.94 2.06-2.06.94zm-11 1L8.5 8.5l.94-2.06 2.06-.94-2.06-.94L8.5 2.5l-.94 2.06-2.06.94zm10 10l.94 2.06.94-2.06 2.06-.94-2.06-.94-.94-2.06-.94 2.06-2.06.94z\"/><path d=\"M17.41 7.96l-1.37-1.37c-.4-.4-.92-.59-1.43-.59-.52 0-1.04.2-1.43.59L10.3 9.45l-7.72 7.72c-.78.78-.78 2.05 0 2.83L4 21.41c.39.39.9.59 1.41.59.51 0 1.02-.2 1.41-.59l7.78-7.78 2.81-2.81c.8-.78.8-2.07 0-2.86zM5.41 20L4 18.59l7.72-7.72 1.47 1.35L5.41 20z\"/>\n",
              "  </svg>\n",
              "      </button>\n",
              "      \n",
              "  <style>\n",
              "    .colab-df-container {\n",
              "      display:flex;\n",
              "      flex-wrap:wrap;\n",
              "      gap: 12px;\n",
              "    }\n",
              "\n",
              "    .colab-df-convert {\n",
              "      background-color: #E8F0FE;\n",
              "      border: none;\n",
              "      border-radius: 50%;\n",
              "      cursor: pointer;\n",
              "      display: none;\n",
              "      fill: #1967D2;\n",
              "      height: 32px;\n",
              "      padding: 0 0 0 0;\n",
              "      width: 32px;\n",
              "    }\n",
              "\n",
              "    .colab-df-convert:hover {\n",
              "      background-color: #E2EBFA;\n",
              "      box-shadow: 0px 1px 2px rgba(60, 64, 67, 0.3), 0px 1px 3px 1px rgba(60, 64, 67, 0.15);\n",
              "      fill: #174EA6;\n",
              "    }\n",
              "\n",
              "    [theme=dark] .colab-df-convert {\n",
              "      background-color: #3B4455;\n",
              "      fill: #D2E3FC;\n",
              "    }\n",
              "\n",
              "    [theme=dark] .colab-df-convert:hover {\n",
              "      background-color: #434B5C;\n",
              "      box-shadow: 0px 1px 3px 1px rgba(0, 0, 0, 0.15);\n",
              "      filter: drop-shadow(0px 1px 2px rgba(0, 0, 0, 0.3));\n",
              "      fill: #FFFFFF;\n",
              "    }\n",
              "  </style>\n",
              "\n",
              "      <script>\n",
              "        const buttonEl =\n",
              "          document.querySelector('#df-af6d1252-9fa3-46e1-be3c-54bf17fe178d button.colab-df-convert');\n",
              "        buttonEl.style.display =\n",
              "          google.colab.kernel.accessAllowed ? 'block' : 'none';\n",
              "\n",
              "        async function convertToInteractive(key) {\n",
              "          const element = document.querySelector('#df-af6d1252-9fa3-46e1-be3c-54bf17fe178d');\n",
              "          const dataTable =\n",
              "            await google.colab.kernel.invokeFunction('convertToInteractive',\n",
              "                                                     [key], {});\n",
              "          if (!dataTable) return;\n",
              "\n",
              "          const docLinkHtml = 'Like what you see? Visit the ' +\n",
              "            '<a target=\"_blank\" href=https://colab.research.google.com/notebooks/data_table.ipynb>data table notebook</a>'\n",
              "            + ' to learn more about interactive tables.';\n",
              "          element.innerHTML = '';\n",
              "          dataTable['output_type'] = 'display_data';\n",
              "          await google.colab.output.renderOutput(dataTable, element);\n",
              "          const docLink = document.createElement('div');\n",
              "          docLink.innerHTML = docLinkHtml;\n",
              "          element.appendChild(docLink);\n",
              "        }\n",
              "      </script>\n",
              "    </div>\n",
              "  </div>\n",
              "  "
            ]
          },
          "metadata": {},
          "execution_count": 19
        }
      ],
      "source": [
        "recs = cosine_model.recommend(\n",
        "    row_id,\n",
        "    train_mat,\n",
        "    N = top_N,\n",
        "    filter_already_liked_items = True\n",
        "    )\n",
        "recs = pd.DataFrame(recs).T.rename(columns = {0: 'col_id', 1: 'similarity'})\n",
        "recs['inv_movie_id'] = recs['col_id'].astype(int)\n",
        "recs['movieId'] = recs['inv_movie_id'].map(movies_inv_mapping.get)\n",
        "recs['title'] = recs['movieId'].map(movie_name_mapper)\n",
        "recs\n"
      ]
    },
    {
      "cell_type": "markdown",
      "metadata": {
        "id": "b1RjjgonwoNB"
      },
      "source": [
        "# TODO\n",
        "- Make global train/ global test split -- train the model appropiately and predict on test set;\n",
        "- Wrap up in function recommendations - lfm_recommend();\n",
        "- Calculate `NDCG@10` on test set"
      ]
    },
    {
      "cell_type": "code",
      "source": [
        "data_split =  np.random.rand(len(interactions_filtered)) < 0.8"
      ],
      "metadata": {
        "id": "FX00CZklxS2H"
      },
      "execution_count": 69,
      "outputs": []
    },
    {
      "cell_type": "code",
      "source": [
        "data_split"
      ],
      "metadata": {
        "colab": {
          "base_uri": "https://localhost:8080/"
        },
        "id": "oTCTNUUYxT9X",
        "outputId": "2d587a76-1a07-4383-9241-e88288f3c29b"
      },
      "execution_count": 70,
      "outputs": [
        {
          "output_type": "execute_result",
          "data": {
            "text/plain": [
              "array([ True, False, False, ..., False,  True, False])"
            ]
          },
          "metadata": {},
          "execution_count": 70
        }
      ]
    },
    {
      "cell_type": "code",
      "source": [
        "global_train_data = interactions_filtered[data_split]\n",
        "global_test_data = interactions_filtered[~data_split]"
      ],
      "metadata": {
        "id": "DWatvRg9tRWH"
      },
      "execution_count": 72,
      "outputs": []
    },
    {
      "cell_type": "code",
      "source": [
        "len(global_train_data)"
      ],
      "metadata": {
        "colab": {
          "base_uri": "https://localhost:8080/"
        },
        "id": "B773RI81ugEl",
        "outputId": "342c8919-431d-46e4-896e-a86701c6cd2d"
      },
      "execution_count": 73,
      "outputs": [
        {
          "output_type": "execute_result",
          "data": {
            "text/plain": [
              "35945"
            ]
          },
          "metadata": {},
          "execution_count": 73
        }
      ]
    },
    {
      "cell_type": "code",
      "source": [
        "len(global_test_data)"
      ],
      "metadata": {
        "colab": {
          "base_uri": "https://localhost:8080/"
        },
        "id": "q8gnmWmguisr",
        "outputId": "54258fc4-e660-47d9-f8c9-722b57d36776"
      },
      "execution_count": 74,
      "outputs": [
        {
          "output_type": "execute_result",
          "data": {
            "text/plain": [
              "9044"
            ]
          },
          "metadata": {},
          "execution_count": 74
        }
      ]
    },
    {
      "cell_type": "code",
      "source": [
        "global_train_data"
      ],
      "metadata": {
        "colab": {
          "base_uri": "https://localhost:8080/",
          "height": 424
        },
        "id": "9H43XwsTxZNK",
        "outputId": "e7957d56-3193-4439-feeb-600a99307fa4"
      },
      "execution_count": 75,
      "outputs": [
        {
          "output_type": "execute_result",
          "data": {
            "text/plain": [
              "       userId movieId  rating   timestamp\n",
              "10          1    1371     2.5  1260759135\n",
              "15          1    2193     2.0  1260759198\n",
              "16          1    2294     2.0  1260759108\n",
              "17          1    2455     2.5  1260759113\n",
              "21          2      17     5.0   835355681\n",
              "...       ...     ...     ...         ...\n",
              "99979     671    4896     5.0  1065111996\n",
              "99982     671    4993     5.0  1064245483\n",
              "99983     671    4995     4.0  1064891537\n",
              "99992     671    5816     4.0  1065111963\n",
              "99996     671    5991     4.5  1064245387\n",
              "\n",
              "[35945 rows x 4 columns]"
            ],
            "text/html": [
              "\n",
              "  <div id=\"df-5ed052a5-4d2e-4eb9-9f2a-4e51ce0b8d8c\">\n",
              "    <div class=\"colab-df-container\">\n",
              "      <div>\n",
              "<style scoped>\n",
              "    .dataframe tbody tr th:only-of-type {\n",
              "        vertical-align: middle;\n",
              "    }\n",
              "\n",
              "    .dataframe tbody tr th {\n",
              "        vertical-align: top;\n",
              "    }\n",
              "\n",
              "    .dataframe thead th {\n",
              "        text-align: right;\n",
              "    }\n",
              "</style>\n",
              "<table border=\"1\" class=\"dataframe\">\n",
              "  <thead>\n",
              "    <tr style=\"text-align: right;\">\n",
              "      <th></th>\n",
              "      <th>userId</th>\n",
              "      <th>movieId</th>\n",
              "      <th>rating</th>\n",
              "      <th>timestamp</th>\n",
              "    </tr>\n",
              "  </thead>\n",
              "  <tbody>\n",
              "    <tr>\n",
              "      <th>10</th>\n",
              "      <td>1</td>\n",
              "      <td>1371</td>\n",
              "      <td>2.5</td>\n",
              "      <td>1260759135</td>\n",
              "    </tr>\n",
              "    <tr>\n",
              "      <th>15</th>\n",
              "      <td>1</td>\n",
              "      <td>2193</td>\n",
              "      <td>2.0</td>\n",
              "      <td>1260759198</td>\n",
              "    </tr>\n",
              "    <tr>\n",
              "      <th>16</th>\n",
              "      <td>1</td>\n",
              "      <td>2294</td>\n",
              "      <td>2.0</td>\n",
              "      <td>1260759108</td>\n",
              "    </tr>\n",
              "    <tr>\n",
              "      <th>17</th>\n",
              "      <td>1</td>\n",
              "      <td>2455</td>\n",
              "      <td>2.5</td>\n",
              "      <td>1260759113</td>\n",
              "    </tr>\n",
              "    <tr>\n",
              "      <th>21</th>\n",
              "      <td>2</td>\n",
              "      <td>17</td>\n",
              "      <td>5.0</td>\n",
              "      <td>835355681</td>\n",
              "    </tr>\n",
              "    <tr>\n",
              "      <th>...</th>\n",
              "      <td>...</td>\n",
              "      <td>...</td>\n",
              "      <td>...</td>\n",
              "      <td>...</td>\n",
              "    </tr>\n",
              "    <tr>\n",
              "      <th>99979</th>\n",
              "      <td>671</td>\n",
              "      <td>4896</td>\n",
              "      <td>5.0</td>\n",
              "      <td>1065111996</td>\n",
              "    </tr>\n",
              "    <tr>\n",
              "      <th>99982</th>\n",
              "      <td>671</td>\n",
              "      <td>4993</td>\n",
              "      <td>5.0</td>\n",
              "      <td>1064245483</td>\n",
              "    </tr>\n",
              "    <tr>\n",
              "      <th>99983</th>\n",
              "      <td>671</td>\n",
              "      <td>4995</td>\n",
              "      <td>4.0</td>\n",
              "      <td>1064891537</td>\n",
              "    </tr>\n",
              "    <tr>\n",
              "      <th>99992</th>\n",
              "      <td>671</td>\n",
              "      <td>5816</td>\n",
              "      <td>4.0</td>\n",
              "      <td>1065111963</td>\n",
              "    </tr>\n",
              "    <tr>\n",
              "      <th>99996</th>\n",
              "      <td>671</td>\n",
              "      <td>5991</td>\n",
              "      <td>4.5</td>\n",
              "      <td>1064245387</td>\n",
              "    </tr>\n",
              "  </tbody>\n",
              "</table>\n",
              "<p>35945 rows × 4 columns</p>\n",
              "</div>\n",
              "      <button class=\"colab-df-convert\" onclick=\"convertToInteractive('df-5ed052a5-4d2e-4eb9-9f2a-4e51ce0b8d8c')\"\n",
              "              title=\"Convert this dataframe to an interactive table.\"\n",
              "              style=\"display:none;\">\n",
              "        \n",
              "  <svg xmlns=\"http://www.w3.org/2000/svg\" height=\"24px\"viewBox=\"0 0 24 24\"\n",
              "       width=\"24px\">\n",
              "    <path d=\"M0 0h24v24H0V0z\" fill=\"none\"/>\n",
              "    <path d=\"M18.56 5.44l.94 2.06.94-2.06 2.06-.94-2.06-.94-.94-2.06-.94 2.06-2.06.94zm-11 1L8.5 8.5l.94-2.06 2.06-.94-2.06-.94L8.5 2.5l-.94 2.06-2.06.94zm10 10l.94 2.06.94-2.06 2.06-.94-2.06-.94-.94-2.06-.94 2.06-2.06.94z\"/><path d=\"M17.41 7.96l-1.37-1.37c-.4-.4-.92-.59-1.43-.59-.52 0-1.04.2-1.43.59L10.3 9.45l-7.72 7.72c-.78.78-.78 2.05 0 2.83L4 21.41c.39.39.9.59 1.41.59.51 0 1.02-.2 1.41-.59l7.78-7.78 2.81-2.81c.8-.78.8-2.07 0-2.86zM5.41 20L4 18.59l7.72-7.72 1.47 1.35L5.41 20z\"/>\n",
              "  </svg>\n",
              "      </button>\n",
              "      \n",
              "  <style>\n",
              "    .colab-df-container {\n",
              "      display:flex;\n",
              "      flex-wrap:wrap;\n",
              "      gap: 12px;\n",
              "    }\n",
              "\n",
              "    .colab-df-convert {\n",
              "      background-color: #E8F0FE;\n",
              "      border: none;\n",
              "      border-radius: 50%;\n",
              "      cursor: pointer;\n",
              "      display: none;\n",
              "      fill: #1967D2;\n",
              "      height: 32px;\n",
              "      padding: 0 0 0 0;\n",
              "      width: 32px;\n",
              "    }\n",
              "\n",
              "    .colab-df-convert:hover {\n",
              "      background-color: #E2EBFA;\n",
              "      box-shadow: 0px 1px 2px rgba(60, 64, 67, 0.3), 0px 1px 3px 1px rgba(60, 64, 67, 0.15);\n",
              "      fill: #174EA6;\n",
              "    }\n",
              "\n",
              "    [theme=dark] .colab-df-convert {\n",
              "      background-color: #3B4455;\n",
              "      fill: #D2E3FC;\n",
              "    }\n",
              "\n",
              "    [theme=dark] .colab-df-convert:hover {\n",
              "      background-color: #434B5C;\n",
              "      box-shadow: 0px 1px 3px 1px rgba(0, 0, 0, 0.15);\n",
              "      filter: drop-shadow(0px 1px 2px rgba(0, 0, 0, 0.3));\n",
              "      fill: #FFFFFF;\n",
              "    }\n",
              "  </style>\n",
              "\n",
              "      <script>\n",
              "        const buttonEl =\n",
              "          document.querySelector('#df-5ed052a5-4d2e-4eb9-9f2a-4e51ce0b8d8c button.colab-df-convert');\n",
              "        buttonEl.style.display =\n",
              "          google.colab.kernel.accessAllowed ? 'block' : 'none';\n",
              "\n",
              "        async function convertToInteractive(key) {\n",
              "          const element = document.querySelector('#df-5ed052a5-4d2e-4eb9-9f2a-4e51ce0b8d8c');\n",
              "          const dataTable =\n",
              "            await google.colab.kernel.invokeFunction('convertToInteractive',\n",
              "                                                     [key], {});\n",
              "          if (!dataTable) return;\n",
              "\n",
              "          const docLinkHtml = 'Like what you see? Visit the ' +\n",
              "            '<a target=\"_blank\" href=https://colab.research.google.com/notebooks/data_table.ipynb>data table notebook</a>'\n",
              "            + ' to learn more about interactive tables.';\n",
              "          element.innerHTML = '';\n",
              "          dataTable['output_type'] = 'display_data';\n",
              "          await google.colab.output.renderOutput(dataTable, element);\n",
              "          const docLink = document.createElement('div');\n",
              "          docLink.innerHTML = docLinkHtml;\n",
              "          element.appendChild(docLink);\n",
              "        }\n",
              "      </script>\n",
              "    </div>\n",
              "  </div>\n",
              "  "
            ]
          },
          "metadata": {},
          "execution_count": 75
        }
      ]
    },
    {
      "cell_type": "code",
      "source": [
        "global_train_mat = get_coo_matrix(\n",
        "    global_train_data,\n",
        "    user_col = 'userId',\n",
        "    item_col = 'movieId',\n",
        "    users_mapping = users_mapping,\n",
        "    movies_mapping = movies_mapping\n",
        "    ).tocsr()"
      ],
      "metadata": {
        "id": "fVxithYAsQAt"
      },
      "execution_count": 76,
      "outputs": []
    },
    {
      "cell_type": "code",
      "source": [
        "global_test_mat = get_coo_matrix(\n",
        "    global_test_data,\n",
        "    user_col = 'userId',\n",
        "    item_col = 'movieId',\n",
        "    users_mapping = users_mapping,\n",
        "    movies_mapping = movies_mapping\n",
        "    ).tocsr()"
      ],
      "metadata": {
        "id": "EjV1j5BstQss"
      },
      "execution_count": 77,
      "outputs": []
    },
    {
      "cell_type": "code",
      "source": [
        "new_cosine_model = CosineRecommender(K = 20)\n",
        "new_cosine_model.fit(global_train_mat.T)"
      ],
      "metadata": {
        "colab": {
          "base_uri": "https://localhost:8080/",
          "height": 49,
          "referenced_widgets": [
            "16eb17e8cc864f3ba0c20d22b53ed7ea",
            "6858839823194b568699b019d152dee0",
            "6139d72b2f1541eb97956f6bc932bb47",
            "f255204fe8e442dbb573843443432aeb",
            "5dfeedc9c2d24306a7308dcb04d020b6",
            "7b0a8a8abd984844865577698e970942",
            "572596f371b64b14a27e451f4facd940",
            "65b4975c118a4461b779bd90f03f89c6",
            "238bae484cb04514824bc6b20db5ab43",
            "e39644214e1148299f00cc7cbd65c981",
            "a382c915d89d42e99981b94d71559a7c"
          ]
        },
        "id": "MZoMYDh3utCi",
        "outputId": "84625093-1561-4f2f-fa88-97dc1342a20d"
      },
      "execution_count": 78,
      "outputs": [
        {
          "output_type": "display_data",
          "data": {
            "text/plain": [
              "  0%|          | 0/671 [00:00<?, ?it/s]"
            ],
            "application/vnd.jupyter.widget-view+json": {
              "version_major": 2,
              "version_minor": 0,
              "model_id": "16eb17e8cc864f3ba0c20d22b53ed7ea"
            }
          },
          "metadata": {}
        }
      ]
    },
    {
      "cell_type": "code",
      "source": [
        "def lfm_recommend(data_matrix, N, row_id):\n",
        "  recs = cosine_model.recommend(\n",
        "    row_id,\n",
        "    data_matrix,\n",
        "    N = top_N,\n",
        "    filter_already_liked_items = True\n",
        "    )\n",
        "  recs = pd.DataFrame(recs).T.rename(columns = {0: 'col_id', 1: 'similarity'})\n",
        "  recs['inv_movie_id'] = recs['col_id'].astype(int)\n",
        "  recs['movieId'] = recs['inv_movie_id'].map(movies_inv_mapping.get)\n",
        "  recs['title'] = recs['movieId'].map(movie_name_mapper)\n",
        "\n",
        "  return recs"
      ],
      "metadata": {
        "id": "MGbqKw7Ku2-E"
      },
      "execution_count": 90,
      "outputs": []
    },
    {
      "cell_type": "code",
      "source": [
        "  top_N = 10\n",
        "  user_id1 = global_test_data['userId'].iloc[0]\n",
        "  row_id1 = users_mapping[user_id]\n",
        "\n",
        "  user_id2 = global_test_data['userId'].iloc[30]\n",
        "  row_id2 = users_mapping[user_id]"
      ],
      "metadata": {
        "id": "v5e4F_AB8XDR"
      },
      "execution_count": 103,
      "outputs": []
    },
    {
      "cell_type": "code",
      "source": [
        "out1 = lfm_recommend(global_test_mat, top_N, row_id1)"
      ],
      "metadata": {
        "id": "PxYYz7hZu6BW"
      },
      "execution_count": 109,
      "outputs": []
    },
    {
      "cell_type": "code",
      "source": [
        "out11 = lfm_recommend(global_train_mat, top_N, row_id1)"
      ],
      "metadata": {
        "id": "dQZOjq3c9wPD"
      },
      "execution_count": 110,
      "outputs": []
    },
    {
      "cell_type": "code",
      "source": [
        "out1"
      ],
      "metadata": {
        "colab": {
          "base_uri": "https://localhost:8080/",
          "height": 363
        },
        "id": "XhEBR16k91Sj",
        "outputId": "6976682f-fc9c-4197-d405-91ec6a901cb4"
      },
      "execution_count": 111,
      "outputs": [
        {
          "output_type": "execute_result",
          "data": {
            "text/plain": [
              "   col_id  similarity  inv_movie_id movieId                  title\n",
              "0   337.0    0.593856           337     170          28 Days Later\n",
              "1   648.0    0.577499           648   68954              Longitude\n",
              "2   399.0    0.561442           399    1088            Whale Rider\n",
              "3   278.0    0.561442           278    1584         School of Rock\n",
              "4   150.0    0.557086           150    2100        The Last Castle\n",
              "5   368.0    0.546672           368     549               Basquiat\n",
              "6   384.0    0.546606           384     804          Roman Holiday\n",
              "7   120.0    0.537456           120    1396                Зеркало\n",
              "8   160.0    0.529829           160    2144  One Night at McCool's\n",
              "9   589.0    0.525467           589    6552             Idle Hands"
            ],
            "text/html": [
              "\n",
              "  <div id=\"df-7072b267-151d-4749-9a42-99291b6d61f9\">\n",
              "    <div class=\"colab-df-container\">\n",
              "      <div>\n",
              "<style scoped>\n",
              "    .dataframe tbody tr th:only-of-type {\n",
              "        vertical-align: middle;\n",
              "    }\n",
              "\n",
              "    .dataframe tbody tr th {\n",
              "        vertical-align: top;\n",
              "    }\n",
              "\n",
              "    .dataframe thead th {\n",
              "        text-align: right;\n",
              "    }\n",
              "</style>\n",
              "<table border=\"1\" class=\"dataframe\">\n",
              "  <thead>\n",
              "    <tr style=\"text-align: right;\">\n",
              "      <th></th>\n",
              "      <th>col_id</th>\n",
              "      <th>similarity</th>\n",
              "      <th>inv_movie_id</th>\n",
              "      <th>movieId</th>\n",
              "      <th>title</th>\n",
              "    </tr>\n",
              "  </thead>\n",
              "  <tbody>\n",
              "    <tr>\n",
              "      <th>0</th>\n",
              "      <td>337.0</td>\n",
              "      <td>0.593856</td>\n",
              "      <td>337</td>\n",
              "      <td>170</td>\n",
              "      <td>28 Days Later</td>\n",
              "    </tr>\n",
              "    <tr>\n",
              "      <th>1</th>\n",
              "      <td>648.0</td>\n",
              "      <td>0.577499</td>\n",
              "      <td>648</td>\n",
              "      <td>68954</td>\n",
              "      <td>Longitude</td>\n",
              "    </tr>\n",
              "    <tr>\n",
              "      <th>2</th>\n",
              "      <td>399.0</td>\n",
              "      <td>0.561442</td>\n",
              "      <td>399</td>\n",
              "      <td>1088</td>\n",
              "      <td>Whale Rider</td>\n",
              "    </tr>\n",
              "    <tr>\n",
              "      <th>3</th>\n",
              "      <td>278.0</td>\n",
              "      <td>0.561442</td>\n",
              "      <td>278</td>\n",
              "      <td>1584</td>\n",
              "      <td>School of Rock</td>\n",
              "    </tr>\n",
              "    <tr>\n",
              "      <th>4</th>\n",
              "      <td>150.0</td>\n",
              "      <td>0.557086</td>\n",
              "      <td>150</td>\n",
              "      <td>2100</td>\n",
              "      <td>The Last Castle</td>\n",
              "    </tr>\n",
              "    <tr>\n",
              "      <th>5</th>\n",
              "      <td>368.0</td>\n",
              "      <td>0.546672</td>\n",
              "      <td>368</td>\n",
              "      <td>549</td>\n",
              "      <td>Basquiat</td>\n",
              "    </tr>\n",
              "    <tr>\n",
              "      <th>6</th>\n",
              "      <td>384.0</td>\n",
              "      <td>0.546606</td>\n",
              "      <td>384</td>\n",
              "      <td>804</td>\n",
              "      <td>Roman Holiday</td>\n",
              "    </tr>\n",
              "    <tr>\n",
              "      <th>7</th>\n",
              "      <td>120.0</td>\n",
              "      <td>0.537456</td>\n",
              "      <td>120</td>\n",
              "      <td>1396</td>\n",
              "      <td>Зеркало</td>\n",
              "    </tr>\n",
              "    <tr>\n",
              "      <th>8</th>\n",
              "      <td>160.0</td>\n",
              "      <td>0.529829</td>\n",
              "      <td>160</td>\n",
              "      <td>2144</td>\n",
              "      <td>One Night at McCool's</td>\n",
              "    </tr>\n",
              "    <tr>\n",
              "      <th>9</th>\n",
              "      <td>589.0</td>\n",
              "      <td>0.525467</td>\n",
              "      <td>589</td>\n",
              "      <td>6552</td>\n",
              "      <td>Idle Hands</td>\n",
              "    </tr>\n",
              "  </tbody>\n",
              "</table>\n",
              "</div>\n",
              "      <button class=\"colab-df-convert\" onclick=\"convertToInteractive('df-7072b267-151d-4749-9a42-99291b6d61f9')\"\n",
              "              title=\"Convert this dataframe to an interactive table.\"\n",
              "              style=\"display:none;\">\n",
              "        \n",
              "  <svg xmlns=\"http://www.w3.org/2000/svg\" height=\"24px\"viewBox=\"0 0 24 24\"\n",
              "       width=\"24px\">\n",
              "    <path d=\"M0 0h24v24H0V0z\" fill=\"none\"/>\n",
              "    <path d=\"M18.56 5.44l.94 2.06.94-2.06 2.06-.94-2.06-.94-.94-2.06-.94 2.06-2.06.94zm-11 1L8.5 8.5l.94-2.06 2.06-.94-2.06-.94L8.5 2.5l-.94 2.06-2.06.94zm10 10l.94 2.06.94-2.06 2.06-.94-2.06-.94-.94-2.06-.94 2.06-2.06.94z\"/><path d=\"M17.41 7.96l-1.37-1.37c-.4-.4-.92-.59-1.43-.59-.52 0-1.04.2-1.43.59L10.3 9.45l-7.72 7.72c-.78.78-.78 2.05 0 2.83L4 21.41c.39.39.9.59 1.41.59.51 0 1.02-.2 1.41-.59l7.78-7.78 2.81-2.81c.8-.78.8-2.07 0-2.86zM5.41 20L4 18.59l7.72-7.72 1.47 1.35L5.41 20z\"/>\n",
              "  </svg>\n",
              "      </button>\n",
              "      \n",
              "  <style>\n",
              "    .colab-df-container {\n",
              "      display:flex;\n",
              "      flex-wrap:wrap;\n",
              "      gap: 12px;\n",
              "    }\n",
              "\n",
              "    .colab-df-convert {\n",
              "      background-color: #E8F0FE;\n",
              "      border: none;\n",
              "      border-radius: 50%;\n",
              "      cursor: pointer;\n",
              "      display: none;\n",
              "      fill: #1967D2;\n",
              "      height: 32px;\n",
              "      padding: 0 0 0 0;\n",
              "      width: 32px;\n",
              "    }\n",
              "\n",
              "    .colab-df-convert:hover {\n",
              "      background-color: #E2EBFA;\n",
              "      box-shadow: 0px 1px 2px rgba(60, 64, 67, 0.3), 0px 1px 3px 1px rgba(60, 64, 67, 0.15);\n",
              "      fill: #174EA6;\n",
              "    }\n",
              "\n",
              "    [theme=dark] .colab-df-convert {\n",
              "      background-color: #3B4455;\n",
              "      fill: #D2E3FC;\n",
              "    }\n",
              "\n",
              "    [theme=dark] .colab-df-convert:hover {\n",
              "      background-color: #434B5C;\n",
              "      box-shadow: 0px 1px 3px 1px rgba(0, 0, 0, 0.15);\n",
              "      filter: drop-shadow(0px 1px 2px rgba(0, 0, 0, 0.3));\n",
              "      fill: #FFFFFF;\n",
              "    }\n",
              "  </style>\n",
              "\n",
              "      <script>\n",
              "        const buttonEl =\n",
              "          document.querySelector('#df-7072b267-151d-4749-9a42-99291b6d61f9 button.colab-df-convert');\n",
              "        buttonEl.style.display =\n",
              "          google.colab.kernel.accessAllowed ? 'block' : 'none';\n",
              "\n",
              "        async function convertToInteractive(key) {\n",
              "          const element = document.querySelector('#df-7072b267-151d-4749-9a42-99291b6d61f9');\n",
              "          const dataTable =\n",
              "            await google.colab.kernel.invokeFunction('convertToInteractive',\n",
              "                                                     [key], {});\n",
              "          if (!dataTable) return;\n",
              "\n",
              "          const docLinkHtml = 'Like what you see? Visit the ' +\n",
              "            '<a target=\"_blank\" href=https://colab.research.google.com/notebooks/data_table.ipynb>data table notebook</a>'\n",
              "            + ' to learn more about interactive tables.';\n",
              "          element.innerHTML = '';\n",
              "          dataTable['output_type'] = 'display_data';\n",
              "          await google.colab.output.renderOutput(dataTable, element);\n",
              "          const docLink = document.createElement('div');\n",
              "          docLink.innerHTML = docLinkHtml;\n",
              "          element.appendChild(docLink);\n",
              "        }\n",
              "      </script>\n",
              "    </div>\n",
              "  </div>\n",
              "  "
            ]
          },
          "metadata": {},
          "execution_count": 111
        }
      ]
    },
    {
      "cell_type": "code",
      "source": [
        "out11"
      ],
      "metadata": {
        "colab": {
          "base_uri": "https://localhost:8080/",
          "height": 363
        },
        "id": "0QQD7tII91U3",
        "outputId": "9f86ce6b-ceb2-407a-c24e-84e117f2ce70"
      },
      "execution_count": 112,
      "outputs": [
        {
          "output_type": "execute_result",
          "data": {
            "text/plain": [
              "   col_id  similarity  inv_movie_id movieId  \\\n",
              "0   653.0    0.861587           653   74458   \n",
              "1   129.0    0.844531           129    1994   \n",
              "2   606.0    0.654064           606    8011   \n",
              "3   579.0    0.571681           579    5956   \n",
              "4   560.0    0.550609           560    4734   \n",
              "5   211.0    0.493337           211   41566   \n",
              "6   460.0    0.490469           460    1895   \n",
              "7   517.0    0.396350           517    3083   \n",
              "8   465.0    0.377862           465    1945   \n",
              "9   499.0    0.367220           499    2701   \n",
              "\n",
              "                                          title  \n",
              "0                        Mere Brother Ki Dulhan  \n",
              "1                       The Most Dangerous Game  \n",
              "2                  Highlander III: The Sorcerer  \n",
              "3                                        Joshua  \n",
              "4                                      Van Gogh  \n",
              "5                                 New York Doll  \n",
              "6  Star Wars: Episode III - Revenge of the Sith  \n",
              "7                  Mr. Smith Goes to Washington  \n",
              "8                                          Nell  \n",
              "9                                       Abraham  "
            ],
            "text/html": [
              "\n",
              "  <div id=\"df-4cdf71ad-aaa7-4eb0-b7ad-ca4acf137ff0\">\n",
              "    <div class=\"colab-df-container\">\n",
              "      <div>\n",
              "<style scoped>\n",
              "    .dataframe tbody tr th:only-of-type {\n",
              "        vertical-align: middle;\n",
              "    }\n",
              "\n",
              "    .dataframe tbody tr th {\n",
              "        vertical-align: top;\n",
              "    }\n",
              "\n",
              "    .dataframe thead th {\n",
              "        text-align: right;\n",
              "    }\n",
              "</style>\n",
              "<table border=\"1\" class=\"dataframe\">\n",
              "  <thead>\n",
              "    <tr style=\"text-align: right;\">\n",
              "      <th></th>\n",
              "      <th>col_id</th>\n",
              "      <th>similarity</th>\n",
              "      <th>inv_movie_id</th>\n",
              "      <th>movieId</th>\n",
              "      <th>title</th>\n",
              "    </tr>\n",
              "  </thead>\n",
              "  <tbody>\n",
              "    <tr>\n",
              "      <th>0</th>\n",
              "      <td>653.0</td>\n",
              "      <td>0.861587</td>\n",
              "      <td>653</td>\n",
              "      <td>74458</td>\n",
              "      <td>Mere Brother Ki Dulhan</td>\n",
              "    </tr>\n",
              "    <tr>\n",
              "      <th>1</th>\n",
              "      <td>129.0</td>\n",
              "      <td>0.844531</td>\n",
              "      <td>129</td>\n",
              "      <td>1994</td>\n",
              "      <td>The Most Dangerous Game</td>\n",
              "    </tr>\n",
              "    <tr>\n",
              "      <th>2</th>\n",
              "      <td>606.0</td>\n",
              "      <td>0.654064</td>\n",
              "      <td>606</td>\n",
              "      <td>8011</td>\n",
              "      <td>Highlander III: The Sorcerer</td>\n",
              "    </tr>\n",
              "    <tr>\n",
              "      <th>3</th>\n",
              "      <td>579.0</td>\n",
              "      <td>0.571681</td>\n",
              "      <td>579</td>\n",
              "      <td>5956</td>\n",
              "      <td>Joshua</td>\n",
              "    </tr>\n",
              "    <tr>\n",
              "      <th>4</th>\n",
              "      <td>560.0</td>\n",
              "      <td>0.550609</td>\n",
              "      <td>560</td>\n",
              "      <td>4734</td>\n",
              "      <td>Van Gogh</td>\n",
              "    </tr>\n",
              "    <tr>\n",
              "      <th>5</th>\n",
              "      <td>211.0</td>\n",
              "      <td>0.493337</td>\n",
              "      <td>211</td>\n",
              "      <td>41566</td>\n",
              "      <td>New York Doll</td>\n",
              "    </tr>\n",
              "    <tr>\n",
              "      <th>6</th>\n",
              "      <td>460.0</td>\n",
              "      <td>0.490469</td>\n",
              "      <td>460</td>\n",
              "      <td>1895</td>\n",
              "      <td>Star Wars: Episode III - Revenge of the Sith</td>\n",
              "    </tr>\n",
              "    <tr>\n",
              "      <th>7</th>\n",
              "      <td>517.0</td>\n",
              "      <td>0.396350</td>\n",
              "      <td>517</td>\n",
              "      <td>3083</td>\n",
              "      <td>Mr. Smith Goes to Washington</td>\n",
              "    </tr>\n",
              "    <tr>\n",
              "      <th>8</th>\n",
              "      <td>465.0</td>\n",
              "      <td>0.377862</td>\n",
              "      <td>465</td>\n",
              "      <td>1945</td>\n",
              "      <td>Nell</td>\n",
              "    </tr>\n",
              "    <tr>\n",
              "      <th>9</th>\n",
              "      <td>499.0</td>\n",
              "      <td>0.367220</td>\n",
              "      <td>499</td>\n",
              "      <td>2701</td>\n",
              "      <td>Abraham</td>\n",
              "    </tr>\n",
              "  </tbody>\n",
              "</table>\n",
              "</div>\n",
              "      <button class=\"colab-df-convert\" onclick=\"convertToInteractive('df-4cdf71ad-aaa7-4eb0-b7ad-ca4acf137ff0')\"\n",
              "              title=\"Convert this dataframe to an interactive table.\"\n",
              "              style=\"display:none;\">\n",
              "        \n",
              "  <svg xmlns=\"http://www.w3.org/2000/svg\" height=\"24px\"viewBox=\"0 0 24 24\"\n",
              "       width=\"24px\">\n",
              "    <path d=\"M0 0h24v24H0V0z\" fill=\"none\"/>\n",
              "    <path d=\"M18.56 5.44l.94 2.06.94-2.06 2.06-.94-2.06-.94-.94-2.06-.94 2.06-2.06.94zm-11 1L8.5 8.5l.94-2.06 2.06-.94-2.06-.94L8.5 2.5l-.94 2.06-2.06.94zm10 10l.94 2.06.94-2.06 2.06-.94-2.06-.94-.94-2.06-.94 2.06-2.06.94z\"/><path d=\"M17.41 7.96l-1.37-1.37c-.4-.4-.92-.59-1.43-.59-.52 0-1.04.2-1.43.59L10.3 9.45l-7.72 7.72c-.78.78-.78 2.05 0 2.83L4 21.41c.39.39.9.59 1.41.59.51 0 1.02-.2 1.41-.59l7.78-7.78 2.81-2.81c.8-.78.8-2.07 0-2.86zM5.41 20L4 18.59l7.72-7.72 1.47 1.35L5.41 20z\"/>\n",
              "  </svg>\n",
              "      </button>\n",
              "      \n",
              "  <style>\n",
              "    .colab-df-container {\n",
              "      display:flex;\n",
              "      flex-wrap:wrap;\n",
              "      gap: 12px;\n",
              "    }\n",
              "\n",
              "    .colab-df-convert {\n",
              "      background-color: #E8F0FE;\n",
              "      border: none;\n",
              "      border-radius: 50%;\n",
              "      cursor: pointer;\n",
              "      display: none;\n",
              "      fill: #1967D2;\n",
              "      height: 32px;\n",
              "      padding: 0 0 0 0;\n",
              "      width: 32px;\n",
              "    }\n",
              "\n",
              "    .colab-df-convert:hover {\n",
              "      background-color: #E2EBFA;\n",
              "      box-shadow: 0px 1px 2px rgba(60, 64, 67, 0.3), 0px 1px 3px 1px rgba(60, 64, 67, 0.15);\n",
              "      fill: #174EA6;\n",
              "    }\n",
              "\n",
              "    [theme=dark] .colab-df-convert {\n",
              "      background-color: #3B4455;\n",
              "      fill: #D2E3FC;\n",
              "    }\n",
              "\n",
              "    [theme=dark] .colab-df-convert:hover {\n",
              "      background-color: #434B5C;\n",
              "      box-shadow: 0px 1px 3px 1px rgba(0, 0, 0, 0.15);\n",
              "      filter: drop-shadow(0px 1px 2px rgba(0, 0, 0, 0.3));\n",
              "      fill: #FFFFFF;\n",
              "    }\n",
              "  </style>\n",
              "\n",
              "      <script>\n",
              "        const buttonEl =\n",
              "          document.querySelector('#df-4cdf71ad-aaa7-4eb0-b7ad-ca4acf137ff0 button.colab-df-convert');\n",
              "        buttonEl.style.display =\n",
              "          google.colab.kernel.accessAllowed ? 'block' : 'none';\n",
              "\n",
              "        async function convertToInteractive(key) {\n",
              "          const element = document.querySelector('#df-4cdf71ad-aaa7-4eb0-b7ad-ca4acf137ff0');\n",
              "          const dataTable =\n",
              "            await google.colab.kernel.invokeFunction('convertToInteractive',\n",
              "                                                     [key], {});\n",
              "          if (!dataTable) return;\n",
              "\n",
              "          const docLinkHtml = 'Like what you see? Visit the ' +\n",
              "            '<a target=\"_blank\" href=https://colab.research.google.com/notebooks/data_table.ipynb>data table notebook</a>'\n",
              "            + ' to learn more about interactive tables.';\n",
              "          element.innerHTML = '';\n",
              "          dataTable['output_type'] = 'display_data';\n",
              "          await google.colab.output.renderOutput(dataTable, element);\n",
              "          const docLink = document.createElement('div');\n",
              "          docLink.innerHTML = docLinkHtml;\n",
              "          element.appendChild(docLink);\n",
              "        }\n",
              "      </script>\n",
              "    </div>\n",
              "  </div>\n",
              "  "
            ]
          },
          "metadata": {},
          "execution_count": 112
        }
      ]
    },
    {
      "cell_type": "code",
      "source": [
        "from math import log2\n",
        "from itertools import product"
      ],
      "metadata": {
        "id": "RJ6cpb0r3RKr"
      },
      "execution_count": 113,
      "outputs": []
    },
    {
      "cell_type": "code",
      "source": [
        "def compute_gain(y_value: float, gain_scheme: str) -> float:\n",
        "    \n",
        "    gain = {'exp2': 2 ** y_value - 1,\n",
        "            'const': y_value}\n",
        "\n",
        "    return float(gain[gain_scheme])"
      ],
      "metadata": {
        "id": "CaT-TMXZ3Ksr"
      },
      "execution_count": 114,
      "outputs": []
    },
    {
      "cell_type": "code",
      "source": [
        "def dcg_at_k(y_true: np.array, y_pred: np.array, gain_scheme: str, k: int) -> float:\n",
        "\n",
        "    if len(y_pred) > k:\n",
        "      y_pred = y_pred[:k]\n",
        "    \n",
        "    dcg = 0\n",
        "    argsort = np.argsort(y_pred)[::-1]\n",
        "    y_true_sorted = y_true[argsort]\n",
        "\n",
        "    for idx, val in enumerate(y_true_sorted, 1):\n",
        "        gain = compute_gain(val, gain_scheme)\n",
        "        dcg += gain / log2(idx + 1)\n",
        "        \n",
        "    return dcg"
      ],
      "metadata": {
        "id": "Uxu9hR3w26It"
      },
      "execution_count": 115,
      "outputs": []
    },
    {
      "cell_type": "code",
      "source": [
        "def ndcg_at_k(y_true: np.array, ys_pred: np.array, gain_scheme: str, k: int) -> float:\n",
        "    \n",
        "    # pred dcg then we calc the same to find max possible\n",
        "    preds_dcg = dcg_at_k(y_true, ys_pred, gain_scheme, k)\n",
        "    max_possible_dcg = dcg_at_k(y_true, y_true, gain_scheme, k)\n",
        "\n",
        "    return preds_dcg / max_possible_dcg"
      ],
      "metadata": {
        "id": "Xkr4qrIf3J_S"
      },
      "execution_count": 116,
      "outputs": []
    },
    {
      "cell_type": "code",
      "source": [
        "in1 = np.array(out1['inv_movie_id'].astype(int).values.tolist())\n",
        "in2 = np.array(out11['inv_movie_id'].astype(int).values.tolist())"
      ],
      "metadata": {
        "id": "7K46ATZT_prd"
      },
      "execution_count": 133,
      "outputs": []
    },
    {
      "cell_type": "code",
      "source": [
        "ndcg_at_k(in1, in2, 'exp2', 10)"
      ],
      "metadata": {
        "colab": {
          "base_uri": "https://localhost:8080/"
        },
        "id": "inY9QIAS60F4",
        "outputId": "fcb523aa-be61-409c-e14d-ec32270b48c3"
      },
      "execution_count": 134,
      "outputs": [
        {
          "output_type": "execute_result",
          "data": {
            "text/plain": [
              "1.0"
            ]
          },
          "metadata": {},
          "execution_count": 134
        }
      ]
    },
    {
      "cell_type": "code",
      "source": [],
      "metadata": {
        "id": "NAqL7_L1-5vO"
      },
      "execution_count": null,
      "outputs": []
    }
  ],
  "metadata": {
    "kernelspec": {
      "display_name": "base",
      "language": "python",
      "name": "python3"
    },
    "language_info": {
      "codemirror_mode": {
        "name": "ipython",
        "version": 3
      },
      "file_extension": ".py",
      "mimetype": "text/x-python",
      "name": "python",
      "nbconvert_exporter": "python",
      "pygments_lexer": "ipython3",
      "version": "3.9.7"
    },
    "orig_nbformat": 4,
    "vscode": {
      "interpreter": {
        "hash": "40d3a090f54c6569ab1632332b64b2c03c39dcf918b08424e98f38b5ae0af88f"
      }
    },
    "colab": {
      "provenance": []
    },
    "widgets": {
      "application/vnd.jupyter.widget-state+json": {
        "ffd9f3c631f84420931e6f03dc09d6cb": {
          "model_module": "@jupyter-widgets/controls",
          "model_name": "HBoxModel",
          "model_module_version": "1.5.0",
          "state": {
            "_dom_classes": [],
            "_model_module": "@jupyter-widgets/controls",
            "_model_module_version": "1.5.0",
            "_model_name": "HBoxModel",
            "_view_count": null,
            "_view_module": "@jupyter-widgets/controls",
            "_view_module_version": "1.5.0",
            "_view_name": "HBoxView",
            "box_style": "",
            "children": [
              "IPY_MODEL_45d20d11eab24cd0b4904f28e7d2318e",
              "IPY_MODEL_aa564337fbc847dbafa44bdc73ee2328",
              "IPY_MODEL_fc992fcd88b249ac910e73dc15b68d53"
            ],
            "layout": "IPY_MODEL_160593683c9440eb91b6f9511c45245c"
          }
        },
        "45d20d11eab24cd0b4904f28e7d2318e": {
          "model_module": "@jupyter-widgets/controls",
          "model_name": "HTMLModel",
          "model_module_version": "1.5.0",
          "state": {
            "_dom_classes": [],
            "_model_module": "@jupyter-widgets/controls",
            "_model_module_version": "1.5.0",
            "_model_name": "HTMLModel",
            "_view_count": null,
            "_view_module": "@jupyter-widgets/controls",
            "_view_module_version": "1.5.0",
            "_view_name": "HTMLView",
            "description": "",
            "description_tooltip": null,
            "layout": "IPY_MODEL_09dbb05b69494ca09ffa4242d12a97fb",
            "placeholder": "​",
            "style": "IPY_MODEL_65f6b169b3bf4d0ba4935ce01818a08f",
            "value": "100%"
          }
        },
        "aa564337fbc847dbafa44bdc73ee2328": {
          "model_module": "@jupyter-widgets/controls",
          "model_name": "FloatProgressModel",
          "model_module_version": "1.5.0",
          "state": {
            "_dom_classes": [],
            "_model_module": "@jupyter-widgets/controls",
            "_model_module_version": "1.5.0",
            "_model_name": "FloatProgressModel",
            "_view_count": null,
            "_view_module": "@jupyter-widgets/controls",
            "_view_module_version": "1.5.0",
            "_view_name": "ProgressView",
            "bar_style": "success",
            "description": "",
            "description_tooltip": null,
            "layout": "IPY_MODEL_01bd67c9e38d4cf4be72a53982ae7053",
            "max": 671,
            "min": 0,
            "orientation": "horizontal",
            "style": "IPY_MODEL_f54d2e73198742299e2004f74a0fc12e",
            "value": 671
          }
        },
        "fc992fcd88b249ac910e73dc15b68d53": {
          "model_module": "@jupyter-widgets/controls",
          "model_name": "HTMLModel",
          "model_module_version": "1.5.0",
          "state": {
            "_dom_classes": [],
            "_model_module": "@jupyter-widgets/controls",
            "_model_module_version": "1.5.0",
            "_model_name": "HTMLModel",
            "_view_count": null,
            "_view_module": "@jupyter-widgets/controls",
            "_view_module_version": "1.5.0",
            "_view_name": "HTMLView",
            "description": "",
            "description_tooltip": null,
            "layout": "IPY_MODEL_c1d022d67ec74a93a297adb0a19fd7ca",
            "placeholder": "​",
            "style": "IPY_MODEL_273981d9a9e045259432cf4b73353379",
            "value": " 671/671 [00:00&lt;00:00, 13371.36it/s]"
          }
        },
        "160593683c9440eb91b6f9511c45245c": {
          "model_module": "@jupyter-widgets/base",
          "model_name": "LayoutModel",
          "model_module_version": "1.2.0",
          "state": {
            "_model_module": "@jupyter-widgets/base",
            "_model_module_version": "1.2.0",
            "_model_name": "LayoutModel",
            "_view_count": null,
            "_view_module": "@jupyter-widgets/base",
            "_view_module_version": "1.2.0",
            "_view_name": "LayoutView",
            "align_content": null,
            "align_items": null,
            "align_self": null,
            "border": null,
            "bottom": null,
            "display": null,
            "flex": null,
            "flex_flow": null,
            "grid_area": null,
            "grid_auto_columns": null,
            "grid_auto_flow": null,
            "grid_auto_rows": null,
            "grid_column": null,
            "grid_gap": null,
            "grid_row": null,
            "grid_template_areas": null,
            "grid_template_columns": null,
            "grid_template_rows": null,
            "height": null,
            "justify_content": null,
            "justify_items": null,
            "left": null,
            "margin": null,
            "max_height": null,
            "max_width": null,
            "min_height": null,
            "min_width": null,
            "object_fit": null,
            "object_position": null,
            "order": null,
            "overflow": null,
            "overflow_x": null,
            "overflow_y": null,
            "padding": null,
            "right": null,
            "top": null,
            "visibility": null,
            "width": null
          }
        },
        "09dbb05b69494ca09ffa4242d12a97fb": {
          "model_module": "@jupyter-widgets/base",
          "model_name": "LayoutModel",
          "model_module_version": "1.2.0",
          "state": {
            "_model_module": "@jupyter-widgets/base",
            "_model_module_version": "1.2.0",
            "_model_name": "LayoutModel",
            "_view_count": null,
            "_view_module": "@jupyter-widgets/base",
            "_view_module_version": "1.2.0",
            "_view_name": "LayoutView",
            "align_content": null,
            "align_items": null,
            "align_self": null,
            "border": null,
            "bottom": null,
            "display": null,
            "flex": null,
            "flex_flow": null,
            "grid_area": null,
            "grid_auto_columns": null,
            "grid_auto_flow": null,
            "grid_auto_rows": null,
            "grid_column": null,
            "grid_gap": null,
            "grid_row": null,
            "grid_template_areas": null,
            "grid_template_columns": null,
            "grid_template_rows": null,
            "height": null,
            "justify_content": null,
            "justify_items": null,
            "left": null,
            "margin": null,
            "max_height": null,
            "max_width": null,
            "min_height": null,
            "min_width": null,
            "object_fit": null,
            "object_position": null,
            "order": null,
            "overflow": null,
            "overflow_x": null,
            "overflow_y": null,
            "padding": null,
            "right": null,
            "top": null,
            "visibility": null,
            "width": null
          }
        },
        "65f6b169b3bf4d0ba4935ce01818a08f": {
          "model_module": "@jupyter-widgets/controls",
          "model_name": "DescriptionStyleModel",
          "model_module_version": "1.5.0",
          "state": {
            "_model_module": "@jupyter-widgets/controls",
            "_model_module_version": "1.5.0",
            "_model_name": "DescriptionStyleModel",
            "_view_count": null,
            "_view_module": "@jupyter-widgets/base",
            "_view_module_version": "1.2.0",
            "_view_name": "StyleView",
            "description_width": ""
          }
        },
        "01bd67c9e38d4cf4be72a53982ae7053": {
          "model_module": "@jupyter-widgets/base",
          "model_name": "LayoutModel",
          "model_module_version": "1.2.0",
          "state": {
            "_model_module": "@jupyter-widgets/base",
            "_model_module_version": "1.2.0",
            "_model_name": "LayoutModel",
            "_view_count": null,
            "_view_module": "@jupyter-widgets/base",
            "_view_module_version": "1.2.0",
            "_view_name": "LayoutView",
            "align_content": null,
            "align_items": null,
            "align_self": null,
            "border": null,
            "bottom": null,
            "display": null,
            "flex": null,
            "flex_flow": null,
            "grid_area": null,
            "grid_auto_columns": null,
            "grid_auto_flow": null,
            "grid_auto_rows": null,
            "grid_column": null,
            "grid_gap": null,
            "grid_row": null,
            "grid_template_areas": null,
            "grid_template_columns": null,
            "grid_template_rows": null,
            "height": null,
            "justify_content": null,
            "justify_items": null,
            "left": null,
            "margin": null,
            "max_height": null,
            "max_width": null,
            "min_height": null,
            "min_width": null,
            "object_fit": null,
            "object_position": null,
            "order": null,
            "overflow": null,
            "overflow_x": null,
            "overflow_y": null,
            "padding": null,
            "right": null,
            "top": null,
            "visibility": null,
            "width": null
          }
        },
        "f54d2e73198742299e2004f74a0fc12e": {
          "model_module": "@jupyter-widgets/controls",
          "model_name": "ProgressStyleModel",
          "model_module_version": "1.5.0",
          "state": {
            "_model_module": "@jupyter-widgets/controls",
            "_model_module_version": "1.5.0",
            "_model_name": "ProgressStyleModel",
            "_view_count": null,
            "_view_module": "@jupyter-widgets/base",
            "_view_module_version": "1.2.0",
            "_view_name": "StyleView",
            "bar_color": null,
            "description_width": ""
          }
        },
        "c1d022d67ec74a93a297adb0a19fd7ca": {
          "model_module": "@jupyter-widgets/base",
          "model_name": "LayoutModel",
          "model_module_version": "1.2.0",
          "state": {
            "_model_module": "@jupyter-widgets/base",
            "_model_module_version": "1.2.0",
            "_model_name": "LayoutModel",
            "_view_count": null,
            "_view_module": "@jupyter-widgets/base",
            "_view_module_version": "1.2.0",
            "_view_name": "LayoutView",
            "align_content": null,
            "align_items": null,
            "align_self": null,
            "border": null,
            "bottom": null,
            "display": null,
            "flex": null,
            "flex_flow": null,
            "grid_area": null,
            "grid_auto_columns": null,
            "grid_auto_flow": null,
            "grid_auto_rows": null,
            "grid_column": null,
            "grid_gap": null,
            "grid_row": null,
            "grid_template_areas": null,
            "grid_template_columns": null,
            "grid_template_rows": null,
            "height": null,
            "justify_content": null,
            "justify_items": null,
            "left": null,
            "margin": null,
            "max_height": null,
            "max_width": null,
            "min_height": null,
            "min_width": null,
            "object_fit": null,
            "object_position": null,
            "order": null,
            "overflow": null,
            "overflow_x": null,
            "overflow_y": null,
            "padding": null,
            "right": null,
            "top": null,
            "visibility": null,
            "width": null
          }
        },
        "273981d9a9e045259432cf4b73353379": {
          "model_module": "@jupyter-widgets/controls",
          "model_name": "DescriptionStyleModel",
          "model_module_version": "1.5.0",
          "state": {
            "_model_module": "@jupyter-widgets/controls",
            "_model_module_version": "1.5.0",
            "_model_name": "DescriptionStyleModel",
            "_view_count": null,
            "_view_module": "@jupyter-widgets/base",
            "_view_module_version": "1.2.0",
            "_view_name": "StyleView",
            "description_width": ""
          }
        },
        "16eb17e8cc864f3ba0c20d22b53ed7ea": {
          "model_module": "@jupyter-widgets/controls",
          "model_name": "HBoxModel",
          "model_module_version": "1.5.0",
          "state": {
            "_dom_classes": [],
            "_model_module": "@jupyter-widgets/controls",
            "_model_module_version": "1.5.0",
            "_model_name": "HBoxModel",
            "_view_count": null,
            "_view_module": "@jupyter-widgets/controls",
            "_view_module_version": "1.5.0",
            "_view_name": "HBoxView",
            "box_style": "",
            "children": [
              "IPY_MODEL_6858839823194b568699b019d152dee0",
              "IPY_MODEL_6139d72b2f1541eb97956f6bc932bb47",
              "IPY_MODEL_f255204fe8e442dbb573843443432aeb"
            ],
            "layout": "IPY_MODEL_5dfeedc9c2d24306a7308dcb04d020b6"
          }
        },
        "6858839823194b568699b019d152dee0": {
          "model_module": "@jupyter-widgets/controls",
          "model_name": "HTMLModel",
          "model_module_version": "1.5.0",
          "state": {
            "_dom_classes": [],
            "_model_module": "@jupyter-widgets/controls",
            "_model_module_version": "1.5.0",
            "_model_name": "HTMLModel",
            "_view_count": null,
            "_view_module": "@jupyter-widgets/controls",
            "_view_module_version": "1.5.0",
            "_view_name": "HTMLView",
            "description": "",
            "description_tooltip": null,
            "layout": "IPY_MODEL_7b0a8a8abd984844865577698e970942",
            "placeholder": "​",
            "style": "IPY_MODEL_572596f371b64b14a27e451f4facd940",
            "value": "100%"
          }
        },
        "6139d72b2f1541eb97956f6bc932bb47": {
          "model_module": "@jupyter-widgets/controls",
          "model_name": "FloatProgressModel",
          "model_module_version": "1.5.0",
          "state": {
            "_dom_classes": [],
            "_model_module": "@jupyter-widgets/controls",
            "_model_module_version": "1.5.0",
            "_model_name": "FloatProgressModel",
            "_view_count": null,
            "_view_module": "@jupyter-widgets/controls",
            "_view_module_version": "1.5.0",
            "_view_name": "ProgressView",
            "bar_style": "success",
            "description": "",
            "description_tooltip": null,
            "layout": "IPY_MODEL_65b4975c118a4461b779bd90f03f89c6",
            "max": 671,
            "min": 0,
            "orientation": "horizontal",
            "style": "IPY_MODEL_238bae484cb04514824bc6b20db5ab43",
            "value": 671
          }
        },
        "f255204fe8e442dbb573843443432aeb": {
          "model_module": "@jupyter-widgets/controls",
          "model_name": "HTMLModel",
          "model_module_version": "1.5.0",
          "state": {
            "_dom_classes": [],
            "_model_module": "@jupyter-widgets/controls",
            "_model_module_version": "1.5.0",
            "_model_name": "HTMLModel",
            "_view_count": null,
            "_view_module": "@jupyter-widgets/controls",
            "_view_module_version": "1.5.0",
            "_view_name": "HTMLView",
            "description": "",
            "description_tooltip": null,
            "layout": "IPY_MODEL_e39644214e1148299f00cc7cbd65c981",
            "placeholder": "​",
            "style": "IPY_MODEL_a382c915d89d42e99981b94d71559a7c",
            "value": " 671/671 [00:00&lt;00:00, 17055.91it/s]"
          }
        },
        "5dfeedc9c2d24306a7308dcb04d020b6": {
          "model_module": "@jupyter-widgets/base",
          "model_name": "LayoutModel",
          "model_module_version": "1.2.0",
          "state": {
            "_model_module": "@jupyter-widgets/base",
            "_model_module_version": "1.2.0",
            "_model_name": "LayoutModel",
            "_view_count": null,
            "_view_module": "@jupyter-widgets/base",
            "_view_module_version": "1.2.0",
            "_view_name": "LayoutView",
            "align_content": null,
            "align_items": null,
            "align_self": null,
            "border": null,
            "bottom": null,
            "display": null,
            "flex": null,
            "flex_flow": null,
            "grid_area": null,
            "grid_auto_columns": null,
            "grid_auto_flow": null,
            "grid_auto_rows": null,
            "grid_column": null,
            "grid_gap": null,
            "grid_row": null,
            "grid_template_areas": null,
            "grid_template_columns": null,
            "grid_template_rows": null,
            "height": null,
            "justify_content": null,
            "justify_items": null,
            "left": null,
            "margin": null,
            "max_height": null,
            "max_width": null,
            "min_height": null,
            "min_width": null,
            "object_fit": null,
            "object_position": null,
            "order": null,
            "overflow": null,
            "overflow_x": null,
            "overflow_y": null,
            "padding": null,
            "right": null,
            "top": null,
            "visibility": null,
            "width": null
          }
        },
        "7b0a8a8abd984844865577698e970942": {
          "model_module": "@jupyter-widgets/base",
          "model_name": "LayoutModel",
          "model_module_version": "1.2.0",
          "state": {
            "_model_module": "@jupyter-widgets/base",
            "_model_module_version": "1.2.0",
            "_model_name": "LayoutModel",
            "_view_count": null,
            "_view_module": "@jupyter-widgets/base",
            "_view_module_version": "1.2.0",
            "_view_name": "LayoutView",
            "align_content": null,
            "align_items": null,
            "align_self": null,
            "border": null,
            "bottom": null,
            "display": null,
            "flex": null,
            "flex_flow": null,
            "grid_area": null,
            "grid_auto_columns": null,
            "grid_auto_flow": null,
            "grid_auto_rows": null,
            "grid_column": null,
            "grid_gap": null,
            "grid_row": null,
            "grid_template_areas": null,
            "grid_template_columns": null,
            "grid_template_rows": null,
            "height": null,
            "justify_content": null,
            "justify_items": null,
            "left": null,
            "margin": null,
            "max_height": null,
            "max_width": null,
            "min_height": null,
            "min_width": null,
            "object_fit": null,
            "object_position": null,
            "order": null,
            "overflow": null,
            "overflow_x": null,
            "overflow_y": null,
            "padding": null,
            "right": null,
            "top": null,
            "visibility": null,
            "width": null
          }
        },
        "572596f371b64b14a27e451f4facd940": {
          "model_module": "@jupyter-widgets/controls",
          "model_name": "DescriptionStyleModel",
          "model_module_version": "1.5.0",
          "state": {
            "_model_module": "@jupyter-widgets/controls",
            "_model_module_version": "1.5.0",
            "_model_name": "DescriptionStyleModel",
            "_view_count": null,
            "_view_module": "@jupyter-widgets/base",
            "_view_module_version": "1.2.0",
            "_view_name": "StyleView",
            "description_width": ""
          }
        },
        "65b4975c118a4461b779bd90f03f89c6": {
          "model_module": "@jupyter-widgets/base",
          "model_name": "LayoutModel",
          "model_module_version": "1.2.0",
          "state": {
            "_model_module": "@jupyter-widgets/base",
            "_model_module_version": "1.2.0",
            "_model_name": "LayoutModel",
            "_view_count": null,
            "_view_module": "@jupyter-widgets/base",
            "_view_module_version": "1.2.0",
            "_view_name": "LayoutView",
            "align_content": null,
            "align_items": null,
            "align_self": null,
            "border": null,
            "bottom": null,
            "display": null,
            "flex": null,
            "flex_flow": null,
            "grid_area": null,
            "grid_auto_columns": null,
            "grid_auto_flow": null,
            "grid_auto_rows": null,
            "grid_column": null,
            "grid_gap": null,
            "grid_row": null,
            "grid_template_areas": null,
            "grid_template_columns": null,
            "grid_template_rows": null,
            "height": null,
            "justify_content": null,
            "justify_items": null,
            "left": null,
            "margin": null,
            "max_height": null,
            "max_width": null,
            "min_height": null,
            "min_width": null,
            "object_fit": null,
            "object_position": null,
            "order": null,
            "overflow": null,
            "overflow_x": null,
            "overflow_y": null,
            "padding": null,
            "right": null,
            "top": null,
            "visibility": null,
            "width": null
          }
        },
        "238bae484cb04514824bc6b20db5ab43": {
          "model_module": "@jupyter-widgets/controls",
          "model_name": "ProgressStyleModel",
          "model_module_version": "1.5.0",
          "state": {
            "_model_module": "@jupyter-widgets/controls",
            "_model_module_version": "1.5.0",
            "_model_name": "ProgressStyleModel",
            "_view_count": null,
            "_view_module": "@jupyter-widgets/base",
            "_view_module_version": "1.2.0",
            "_view_name": "StyleView",
            "bar_color": null,
            "description_width": ""
          }
        },
        "e39644214e1148299f00cc7cbd65c981": {
          "model_module": "@jupyter-widgets/base",
          "model_name": "LayoutModel",
          "model_module_version": "1.2.0",
          "state": {
            "_model_module": "@jupyter-widgets/base",
            "_model_module_version": "1.2.0",
            "_model_name": "LayoutModel",
            "_view_count": null,
            "_view_module": "@jupyter-widgets/base",
            "_view_module_version": "1.2.0",
            "_view_name": "LayoutView",
            "align_content": null,
            "align_items": null,
            "align_self": null,
            "border": null,
            "bottom": null,
            "display": null,
            "flex": null,
            "flex_flow": null,
            "grid_area": null,
            "grid_auto_columns": null,
            "grid_auto_flow": null,
            "grid_auto_rows": null,
            "grid_column": null,
            "grid_gap": null,
            "grid_row": null,
            "grid_template_areas": null,
            "grid_template_columns": null,
            "grid_template_rows": null,
            "height": null,
            "justify_content": null,
            "justify_items": null,
            "left": null,
            "margin": null,
            "max_height": null,
            "max_width": null,
            "min_height": null,
            "min_width": null,
            "object_fit": null,
            "object_position": null,
            "order": null,
            "overflow": null,
            "overflow_x": null,
            "overflow_y": null,
            "padding": null,
            "right": null,
            "top": null,
            "visibility": null,
            "width": null
          }
        },
        "a382c915d89d42e99981b94d71559a7c": {
          "model_module": "@jupyter-widgets/controls",
          "model_name": "DescriptionStyleModel",
          "model_module_version": "1.5.0",
          "state": {
            "_model_module": "@jupyter-widgets/controls",
            "_model_module_version": "1.5.0",
            "_model_name": "DescriptionStyleModel",
            "_view_count": null,
            "_view_module": "@jupyter-widgets/base",
            "_view_module_version": "1.2.0",
            "_view_name": "StyleView",
            "description_width": ""
          }
        }
      }
    }
  },
  "nbformat": 4,
  "nbformat_minor": 0
}