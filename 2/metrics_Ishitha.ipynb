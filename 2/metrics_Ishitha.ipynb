{
  "cells": [
    {
      "cell_type": "markdown",
      "metadata": {
        "id": "33Ye60d2yGDb"
      },
      "source": [
        "# 0. Configuration"
      ]
    },
    {
      "cell_type": "code",
      "execution_count": 1,
      "metadata": {
        "id": "r4_jLcFWyGDe"
      },
      "outputs": [],
      "source": [
        "#TODO - add formulae in line with functions"
      ]
    },
    {
      "cell_type": "markdown",
      "metadata": {
        "id": "RoAmz_2NyGDf"
      },
      "source": [
        "# 1. Modules and functions"
      ]
    },
    {
      "cell_type": "code",
      "execution_count": 22,
      "metadata": {
        "id": "YkphDdriyGDf"
      },
      "outputs": [],
      "source": [
        "import numpy as np\n",
        "from math import log2\n",
        "from itertools import product"
      ]
    },
    {
      "cell_type": "markdown",
      "metadata": {
        "id": "y8qNC_-OyGDg"
      },
      "source": [
        "# 2. Main"
      ]
    },
    {
      "cell_type": "markdown",
      "metadata": {
        "id": "S9Qa0OBGyGDg"
      },
      "source": [
        "## 2.1. Precision@K"
      ]
    },
    {
      "cell_type": "code",
      "execution_count": 3,
      "metadata": {
        "id": "xtgYrkovyGDg"
      },
      "outputs": [],
      "source": [
        "def precission_at_k(y_true: np.array, y_pred: np.array, k: int) -> float:\n",
        "    \"\"\"\n",
        "    y_true: true labels\n",
        "    y_pred: predicted lables\n",
        "    k: cutoff length\n",
        "    \"\"\"\n",
        "\n",
        "    if sum(y_true) == 0:\n",
        "        return -1\n",
        "\n",
        "    argsort = np.argsort(y_pred)[::-1]\n",
        "    y_true_sorted = y_true[argsort]\n",
        "    true_positives = y_true_sorted[:k].sum()\n",
        "\n",
        "    return true_positives / k"
      ]
    },
    {
      "cell_type": "code",
      "execution_count": 4,
      "metadata": {
        "id": "jXfxEUOPyGDh"
      },
      "outputs": [],
      "source": [
        "# example array\n",
        "y_true = np.array([1, 0, 0, 1, 0, 0])\n",
        "y_pred = np.array([6, 2, 3, 5, 4, 1])"
      ]
    },
    {
      "cell_type": "code",
      "source": [],
      "metadata": {
        "id": "PO-dNAZ6Ii1O"
      },
      "execution_count": 4,
      "outputs": []
    },
    {
      "cell_type": "code",
      "execution_count": 6,
      "metadata": {
        "colab": {
          "base_uri": "https://localhost:8080/"
        },
        "id": "jjlk2RggyGDh",
        "outputId": "3a021a70-ffda-4c08-c77d-33295f0fdd7d"
      },
      "outputs": [
        {
          "output_type": "execute_result",
          "data": {
            "text/plain": [
              "array([0, 3, 4, 2, 1, 5])"
            ]
          },
          "metadata": {},
          "execution_count": 6
        }
      ],
      "source": [
        "argsort = np.argsort(y_pred)[::-1]\n",
        "argsort"
      ]
    },
    {
      "cell_type": "code",
      "execution_count": 7,
      "metadata": {
        "colab": {
          "base_uri": "https://localhost:8080/"
        },
        "id": "z4LgFZUdyGDi",
        "outputId": "2e56c6e1-29a0-4c52-8c6e-4e3b930521a6"
      },
      "outputs": [
        {
          "output_type": "execute_result",
          "data": {
            "text/plain": [
              "array([1, 1, 0, 0, 0, 0])"
            ]
          },
          "metadata": {},
          "execution_count": 7
        }
      ],
      "source": [
        "y_true_sorted = y_true[argsort]\n",
        "y_true_sorted"
      ]
    },
    {
      "cell_type": "code",
      "execution_count": 8,
      "metadata": {
        "colab": {
          "base_uri": "https://localhost:8080/"
        },
        "id": "5zB-vl8nyGDj",
        "outputId": "4b51ee53-0249-4c51-acde-89a3845cad76"
      },
      "outputs": [
        {
          "output_type": "execute_result",
          "data": {
            "text/plain": [
              "2"
            ]
          },
          "metadata": {},
          "execution_count": 8
        }
      ],
      "source": [
        "true_positives = y_true_sorted[:6].sum()\n",
        "true_positives"
      ]
    },
    {
      "cell_type": "code",
      "execution_count": 9,
      "metadata": {
        "colab": {
          "base_uri": "https://localhost:8080/"
        },
        "id": "XzvaR10HyGDj",
        "outputId": "701762ce-287a-4386-b509-d2e43fa308a6"
      },
      "outputs": [
        {
          "output_type": "execute_result",
          "data": {
            "text/plain": [
              "0.3333333333333333"
            ]
          },
          "metadata": {},
          "execution_count": 9
        }
      ],
      "source": [
        "# as expected\n",
        "precission_at_k(y_true, y_pred, k = 6)"
      ]
    },
    {
      "cell_type": "markdown",
      "metadata": {
        "id": "kfCN3xvAyGDk"
      },
      "source": [
        "## 2.2. AP@K, MAP@K"
      ]
    },
    {
      "cell_type": "code",
      "execution_count": 10,
      "metadata": {
        "id": "RFAnU6weyGDk"
      },
      "outputs": [],
      "source": [
        "def average_precision(y_true: np.array, y_pred: np.array, k: int) -> float:\n",
        "\n",
        "    if sum(y_true) == 0:\n",
        "        return -1\n",
        "\n",
        "    if len(y_pred) > k:\n",
        "        y_pred = y_pred[:k]\n",
        "\n",
        "    argsort = np.argsort(y_pred)[::-1]\n",
        "    y_true_sorted = y_true[argsort]\n",
        "\n",
        "    num_hits = 0\n",
        "    score = 0\n",
        "\n",
        "    for i, p in enumerate(y_true_sorted, 1):\n",
        "        if p == 1:\n",
        "            num_hits += 1\n",
        "            score += num_hits / i\n",
        "    if num_hits == 0:\n",
        "        output = 0\n",
        "    \n",
        "    else:\n",
        "        output = score / min(len(y_true), k)\n",
        "\n",
        "    return output\n"
      ]
    },
    {
      "cell_type": "code",
      "execution_count": 11,
      "metadata": {
        "colab": {
          "base_uri": "https://localhost:8080/"
        },
        "id": "LRW-0LFpyGDk",
        "outputId": "56f821be-0efb-4297-b11a-d71195d841b5"
      },
      "outputs": [
        {
          "output_type": "execute_result",
          "data": {
            "text/plain": [
              "0.3333333333333333"
            ]
          },
          "metadata": {},
          "execution_count": 11
        }
      ],
      "source": [
        "average_precision(y_true, y_pred, k = 3)"
      ]
    },
    {
      "cell_type": "markdown",
      "metadata": {
        "id": "V6SpVnSuyGDl"
      },
      "source": [
        "## 2.3. MRR"
      ]
    },
    {
      "cell_type": "code",
      "execution_count": 12,
      "metadata": {
        "id": "88HYMUCuyGDl"
      },
      "outputs": [],
      "source": [
        "def reciprocal_rank(y_true: np.array, y_pred: np.array) -> float:\n",
        "    \n",
        "    argsort = np.argsort(y_pred)[::-1]\n",
        "    y_true_sorted = y_true[argsort]\n",
        "    for i, val in enumerate(y_true_sorted, 1):     \n",
        "        if val == 1:\n",
        "            return 1 / i\n",
        "    return 0\n"
      ]
    },
    {
      "cell_type": "code",
      "execution_count": 13,
      "metadata": {
        "id": "DpyHFXT2yGDl"
      },
      "outputs": [],
      "source": [
        "# example array for MRR\n",
        "y_true = np.array([1, 0, 0, 1, 0, 0])\n",
        "y_pred = np.array([0, 2, 3, 3.5, 4, 1])"
      ]
    },
    {
      "cell_type": "code",
      "execution_count": 14,
      "metadata": {
        "colab": {
          "base_uri": "https://localhost:8080/"
        },
        "id": "lOsRPcUcyGDl",
        "outputId": "3719d1b6-8709-4ad8-da65-62c256c2c2cc"
      },
      "outputs": [
        {
          "output_type": "execute_result",
          "data": {
            "text/plain": [
              "0.5"
            ]
          },
          "metadata": {},
          "execution_count": 14
        }
      ],
      "source": [
        "reciprocal_rank(y_true, y_pred)"
      ]
    },
    {
      "cell_type": "markdown",
      "metadata": {
        "id": "_ORcq2axyGDm"
      },
      "source": [
        "## 2.4. NDCG"
      ]
    },
    {
      "cell_type": "code",
      "execution_count": 15,
      "metadata": {
        "id": "KB6uCt3uyGDm"
      },
      "outputs": [],
      "source": [
        "def compute_gain(y_value: float, gain_scheme: str) -> float:\n",
        "    \n",
        "    gain = {'exp2': 2 ** y_value - 1,\n",
        "            'const': y_value}\n",
        "\n",
        "    return float(gain[gain_scheme])"
      ]
    },
    {
      "cell_type": "code",
      "execution_count": 16,
      "metadata": {
        "id": "RRtZsFynyGDm"
      },
      "outputs": [],
      "source": [
        "def dcg(y_true: np.array, y_pred: np.array, gain_scheme: str) -> float:\n",
        "    \n",
        "    dcg = 0\n",
        "    argsort = np.argsort(y_pred)[::-1]\n",
        "    y_true_sorted = y_true[argsort]\n",
        "\n",
        "    for idx, val in enumerate(y_true_sorted, 1):\n",
        "        gain = compute_gain(val, gain_scheme)\n",
        "        dcg += gain / log2(idx + 1)\n",
        "        \n",
        "    return dcg\n"
      ]
    },
    {
      "cell_type": "code",
      "execution_count": 17,
      "metadata": {
        "id": "w4IlEZeHyGDn"
      },
      "outputs": [],
      "source": [
        "def ndcg(y_true: np.array, ys_pred: np.array, gain_scheme: str = 'const') -> float:\n",
        "    \n",
        "    # pred dcg then we calc the same to find max possible\n",
        "    preds_dcg = dcg(y_true, ys_pred, gain_scheme)\n",
        "    max_possible_dcg = dcg(y_true, y_true, gain_scheme)\n",
        "\n",
        "    return preds_dcg / max_possible_dcg\n"
      ]
    },
    {
      "cell_type": "code",
      "execution_count": 18,
      "metadata": {
        "id": "whn7gyr5yGDn"
      },
      "outputs": [],
      "source": [
        "y_pred = np.array([6, 5, 4, 3, 2, 1]) # some score to sort\n",
        "y_true = np.array([3, 2, 3, 0, 1, 2])"
      ]
    },
    {
      "cell_type": "code",
      "execution_count": 19,
      "metadata": {
        "colab": {
          "base_uri": "https://localhost:8080/"
        },
        "id": "hSQycPMlyGDn",
        "outputId": "b35ef248-b196-4bc0-bff2-237606658f7c"
      },
      "outputs": [
        {
          "output_type": "execute_result",
          "data": {
            "text/plain": [
              "0.9488107485678985"
            ]
          },
          "metadata": {},
          "execution_count": 19
        }
      ],
      "source": [
        "ndcg(y_true, y_pred, 'exp2')"
      ]
    },
    {
      "cell_type": "markdown",
      "metadata": {
        "id": "pw5jSaajyGDo"
      },
      "source": [
        "# TODO\n",
        "- Write MAP@K function;\n",
        "- Modify ndcg() such that it incomporates cutoff param K"
      ]
    },
    {
      "cell_type": "code",
      "source": [
        "def map_at_k(y_true: np.array, y_pred: np.array, k: int) -> float:\n",
        "\n",
        "  mean_vals = np.mean([average_precision(av, pred, k) for av, pred in product([y_true], y_pred)])\n",
        "  \n",
        "  return mean_vals"
      ],
      "metadata": {
        "id": "tKuh1KJEdWTv"
      },
      "execution_count": 25,
      "outputs": []
    },
    {
      "cell_type": "code",
      "source": [
        "y_true = np.array([1, 0, 0, 1, 0, 0])\n",
        "y_pred = np.array([[6, 2, 3, 5, 4, 1],\n",
        "                   [5, 1, 3, 5, 3, 2],\n",
        "                   [1, 2, 2, 2, 3, 1],\n",
        "                   [4, 2, 3, 5, 3, 1]])"
      ],
      "metadata": {
        "id": "DypdvV7bmQgw"
      },
      "execution_count": 26,
      "outputs": []
    },
    {
      "cell_type": "code",
      "source": [
        "map_at_k(y_true, y_pred, k = 3)"
      ],
      "metadata": {
        "colab": {
          "base_uri": "https://localhost:8080/"
        },
        "id": "n2b7RHzHlhjn",
        "outputId": "902a04b5-7456-4f4a-a8fc-1477dcd0a3bf"
      },
      "execution_count": 30,
      "outputs": [
        {
          "output_type": "execute_result",
          "data": {
            "text/plain": [
              "0.27777777777777773"
            ]
          },
          "metadata": {},
          "execution_count": 30
        }
      ]
    },
    {
      "cell_type": "code",
      "source": [
        "def dcg_at_k(y_true: np.array, y_pred: np.array, gain_scheme: str, k: int) -> float:\n",
        "\n",
        "    if len(y_pred) > k:\n",
        "      y_pred = y_pred[:k]\n",
        "    \n",
        "    dcg = 0\n",
        "    argsort = np.argsort(y_pred)[::-1]\n",
        "    y_true_sorted = y_true[argsort]\n",
        "\n",
        "    for idx, val in enumerate(y_true_sorted, 1):\n",
        "        gain = compute_gain(val, gain_scheme)\n",
        "        dcg += gain / log2(idx + 1)\n",
        "        \n",
        "    return dcg"
      ],
      "metadata": {
        "id": "xFY30hVLnXC5"
      },
      "execution_count": 31,
      "outputs": []
    },
    {
      "cell_type": "code",
      "source": [
        "def ndcg_at_k(y_true: np.array, ys_pred: np.array, gain_scheme: str, k: int) -> float:\n",
        "    \n",
        "    # pred dcg then we calc the same to find max possible\n",
        "    preds_dcg = dcg_at_k(y_true, ys_pred, gain_scheme, k)\n",
        "    max_possible_dcg = dcg_at_k(y_true, y_true, gain_scheme, k)\n",
        "\n",
        "    return preds_dcg / max_possible_dcg"
      ],
      "metadata": {
        "id": "aXEHJJs_lolE"
      },
      "execution_count": 38,
      "outputs": []
    },
    {
      "cell_type": "code",
      "source": [
        "y_pred = np.array([6, 5, 4, 3, 2, 1])\n",
        "y_true = np.array([3, 2, 3, 0, 1, 2])"
      ],
      "metadata": {
        "id": "bjwEI1k8qmca"
      },
      "execution_count": 39,
      "outputs": []
    },
    {
      "cell_type": "code",
      "source": [
        "ndcg_at_k(y_true, y_pred, 'exp2', 3)"
      ],
      "metadata": {
        "colab": {
          "base_uri": "https://localhost:8080/"
        },
        "id": "jH_LYIrrqt4s",
        "outputId": "d63a6e82-b874-465d-a39a-4114eddc4074"
      },
      "execution_count": 43,
      "outputs": [
        {
          "output_type": "execute_result",
          "data": {
            "text/plain": [
              "0.9594535145926796"
            ]
          },
          "metadata": {},
          "execution_count": 43
        }
      ]
    },
    {
      "cell_type": "code",
      "source": [],
      "metadata": {
        "id": "9XJ8unDXqvvT"
      },
      "execution_count": null,
      "outputs": []
    }
  ],
  "metadata": {
    "kernelspec": {
      "display_name": "base",
      "language": "python",
      "name": "python3"
    },
    "language_info": {
      "codemirror_mode": {
        "name": "ipython",
        "version": 3
      },
      "file_extension": ".py",
      "mimetype": "text/x-python",
      "name": "python",
      "nbconvert_exporter": "python",
      "pygments_lexer": "ipython3",
      "version": "3.9.7"
    },
    "orig_nbformat": 4,
    "vscode": {
      "interpreter": {
        "hash": "40d3a090f54c6569ab1632332b64b2c03c39dcf918b08424e98f38b5ae0af88f"
      }
    },
    "colab": {
      "provenance": []
    }
  },
  "nbformat": 4,
  "nbformat_minor": 0
}